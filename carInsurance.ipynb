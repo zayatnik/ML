{
 "cells": [
  {
   "cell_type": "code",
   "execution_count": 1,
   "metadata": {},
   "outputs": [],
   "source": [
    "import numpy as np              # Массивы (матрицы, векторы, линейная алгебра)\n",
    "import matplotlib.pyplot as plt # Научная графика\n",
    "%matplotlib inline \n",
    "    # Говорим jupyter'у, чтобы весь графический вывод был в браузере, а не в отдельном окне\n",
    "import pandas as pd             # Таблицы и временные ряды (dataframe, series)\n",
    "import seaborn as sns           # Еще больше красивой графики для визуализации данных\n",
    "import sklearn   "
   ]
  },
  {
   "cell_type": "markdown",
   "metadata": {},
   "source": [
    "# Страхование автомобилей\n",
    "Допустим, автомобилист страхует своё транспортное средство в страховой компании. Рассматривается следующий вопрос: скорее всего, обратится клиент в страховую компанию за выплатой в течение страхового срока (год) или нет (т.е., грубо говоря, попадёт он в ДТП или нет). Данные взяты с сайта kaggle.com (датасет \"Car Insurance Data\" от 2021-го года)."
   ]
  },
  {
   "cell_type": "markdown",
   "metadata": {},
   "source": [
    "## Чтение данных"
   ]
  },
  {
   "cell_type": "code",
   "execution_count": 2,
   "metadata": {
    "scrolled": false
   },
   "outputs": [
    {
     "data": {
      "text/plain": [
       "(10000, 19)"
      ]
     },
     "execution_count": 2,
     "metadata": {},
     "output_type": "execute_result"
    }
   ],
   "source": [
    "ci = pd.read_csv('Car_Insurance_Claim.csv')\n",
    "ci.shape"
   ]
  },
  {
   "cell_type": "code",
   "execution_count": 3,
   "metadata": {},
   "outputs": [
    {
     "data": {
      "text/html": [
       "<div>\n",
       "<style scoped>\n",
       "    .dataframe tbody tr th:only-of-type {\n",
       "        vertical-align: middle;\n",
       "    }\n",
       "\n",
       "    .dataframe tbody tr th {\n",
       "        vertical-align: top;\n",
       "    }\n",
       "\n",
       "    .dataframe thead th {\n",
       "        text-align: right;\n",
       "    }\n",
       "</style>\n",
       "<table border=\"1\" class=\"dataframe\">\n",
       "  <thead>\n",
       "    <tr style=\"text-align: right;\">\n",
       "      <th></th>\n",
       "      <th>ID</th>\n",
       "      <th>AGE</th>\n",
       "      <th>GENDER</th>\n",
       "      <th>RACE</th>\n",
       "      <th>DRIVING_EXPERIENCE</th>\n",
       "      <th>EDUCATION</th>\n",
       "      <th>INCOME</th>\n",
       "      <th>CREDIT_SCORE</th>\n",
       "      <th>VEHICLE_OWNERSHIP</th>\n",
       "      <th>VEHICLE_YEAR</th>\n",
       "      <th>MARRIED</th>\n",
       "      <th>CHILDREN</th>\n",
       "      <th>POSTAL_CODE</th>\n",
       "      <th>ANNUAL_MILEAGE</th>\n",
       "      <th>VEHICLE_TYPE</th>\n",
       "      <th>SPEEDING_VIOLATIONS</th>\n",
       "      <th>DUIS</th>\n",
       "      <th>PAST_ACCIDENTS</th>\n",
       "      <th>OUTCOME</th>\n",
       "    </tr>\n",
       "  </thead>\n",
       "  <tbody>\n",
       "    <tr>\n",
       "      <th>0</th>\n",
       "      <td>569520</td>\n",
       "      <td>65+</td>\n",
       "      <td>female</td>\n",
       "      <td>majority</td>\n",
       "      <td>0-9y</td>\n",
       "      <td>high school</td>\n",
       "      <td>upper class</td>\n",
       "      <td>0.629027</td>\n",
       "      <td>1.0</td>\n",
       "      <td>after 2015</td>\n",
       "      <td>0.0</td>\n",
       "      <td>1.0</td>\n",
       "      <td>10238</td>\n",
       "      <td>12000.0</td>\n",
       "      <td>sedan</td>\n",
       "      <td>0</td>\n",
       "      <td>0</td>\n",
       "      <td>0</td>\n",
       "      <td>0.0</td>\n",
       "    </tr>\n",
       "    <tr>\n",
       "      <th>1</th>\n",
       "      <td>750365</td>\n",
       "      <td>16-25</td>\n",
       "      <td>male</td>\n",
       "      <td>majority</td>\n",
       "      <td>0-9y</td>\n",
       "      <td>none</td>\n",
       "      <td>poverty</td>\n",
       "      <td>0.357757</td>\n",
       "      <td>0.0</td>\n",
       "      <td>before 2015</td>\n",
       "      <td>0.0</td>\n",
       "      <td>0.0</td>\n",
       "      <td>10238</td>\n",
       "      <td>16000.0</td>\n",
       "      <td>sedan</td>\n",
       "      <td>0</td>\n",
       "      <td>0</td>\n",
       "      <td>0</td>\n",
       "      <td>1.0</td>\n",
       "    </tr>\n",
       "    <tr>\n",
       "      <th>2</th>\n",
       "      <td>199901</td>\n",
       "      <td>16-25</td>\n",
       "      <td>female</td>\n",
       "      <td>majority</td>\n",
       "      <td>0-9y</td>\n",
       "      <td>high school</td>\n",
       "      <td>working class</td>\n",
       "      <td>0.493146</td>\n",
       "      <td>1.0</td>\n",
       "      <td>before 2015</td>\n",
       "      <td>0.0</td>\n",
       "      <td>0.0</td>\n",
       "      <td>10238</td>\n",
       "      <td>11000.0</td>\n",
       "      <td>sedan</td>\n",
       "      <td>0</td>\n",
       "      <td>0</td>\n",
       "      <td>0</td>\n",
       "      <td>0.0</td>\n",
       "    </tr>\n",
       "    <tr>\n",
       "      <th>3</th>\n",
       "      <td>478866</td>\n",
       "      <td>16-25</td>\n",
       "      <td>male</td>\n",
       "      <td>majority</td>\n",
       "      <td>0-9y</td>\n",
       "      <td>university</td>\n",
       "      <td>working class</td>\n",
       "      <td>0.206013</td>\n",
       "      <td>1.0</td>\n",
       "      <td>before 2015</td>\n",
       "      <td>0.0</td>\n",
       "      <td>1.0</td>\n",
       "      <td>32765</td>\n",
       "      <td>11000.0</td>\n",
       "      <td>sedan</td>\n",
       "      <td>0</td>\n",
       "      <td>0</td>\n",
       "      <td>0</td>\n",
       "      <td>0.0</td>\n",
       "    </tr>\n",
       "    <tr>\n",
       "      <th>4</th>\n",
       "      <td>731664</td>\n",
       "      <td>26-39</td>\n",
       "      <td>male</td>\n",
       "      <td>majority</td>\n",
       "      <td>10-19y</td>\n",
       "      <td>none</td>\n",
       "      <td>working class</td>\n",
       "      <td>0.388366</td>\n",
       "      <td>1.0</td>\n",
       "      <td>before 2015</td>\n",
       "      <td>0.0</td>\n",
       "      <td>0.0</td>\n",
       "      <td>32765</td>\n",
       "      <td>12000.0</td>\n",
       "      <td>sedan</td>\n",
       "      <td>2</td>\n",
       "      <td>0</td>\n",
       "      <td>1</td>\n",
       "      <td>1.0</td>\n",
       "    </tr>\n",
       "  </tbody>\n",
       "</table>\n",
       "</div>"
      ],
      "text/plain": [
       "       ID    AGE  GENDER      RACE DRIVING_EXPERIENCE    EDUCATION  \\\n",
       "0  569520    65+  female  majority               0-9y  high school   \n",
       "1  750365  16-25    male  majority               0-9y         none   \n",
       "2  199901  16-25  female  majority               0-9y  high school   \n",
       "3  478866  16-25    male  majority               0-9y   university   \n",
       "4  731664  26-39    male  majority             10-19y         none   \n",
       "\n",
       "          INCOME  CREDIT_SCORE  VEHICLE_OWNERSHIP VEHICLE_YEAR  MARRIED  \\\n",
       "0    upper class      0.629027                1.0   after 2015      0.0   \n",
       "1        poverty      0.357757                0.0  before 2015      0.0   \n",
       "2  working class      0.493146                1.0  before 2015      0.0   \n",
       "3  working class      0.206013                1.0  before 2015      0.0   \n",
       "4  working class      0.388366                1.0  before 2015      0.0   \n",
       "\n",
       "   CHILDREN  POSTAL_CODE  ANNUAL_MILEAGE VEHICLE_TYPE  SPEEDING_VIOLATIONS  \\\n",
       "0       1.0        10238         12000.0        sedan                    0   \n",
       "1       0.0        10238         16000.0        sedan                    0   \n",
       "2       0.0        10238         11000.0        sedan                    0   \n",
       "3       1.0        32765         11000.0        sedan                    0   \n",
       "4       0.0        32765         12000.0        sedan                    2   \n",
       "\n",
       "   DUIS  PAST_ACCIDENTS  OUTCOME  \n",
       "0     0               0      0.0  \n",
       "1     0               0      1.0  \n",
       "2     0               0      0.0  \n",
       "3     0               0      0.0  \n",
       "4     0               1      1.0  "
      ]
     },
     "execution_count": 3,
     "metadata": {},
     "output_type": "execute_result"
    }
   ],
   "source": [
    "ci.head()"
   ]
  },
  {
   "cell_type": "markdown",
   "metadata": {},
   "source": [
    "Таблица содержит данные о 10000 водителей, бывших клиентами одной из страховых компаний. Каждая строка соответствует одному водителю, а столбцы (их 19) - признака. Обратимся к ним и разберём значение каждого из них."
   ]
  },
  {
   "cell_type": "code",
   "execution_count": 4,
   "metadata": {
    "scrolled": false
   },
   "outputs": [
    {
     "data": {
      "text/plain": [
       "Index(['ID', 'AGE', 'GENDER', 'RACE', 'DRIVING_EXPERIENCE', 'EDUCATION',\n",
       "       'INCOME', 'CREDIT_SCORE', 'VEHICLE_OWNERSHIP', 'VEHICLE_YEAR',\n",
       "       'MARRIED', 'CHILDREN', 'POSTAL_CODE', 'ANNUAL_MILEAGE', 'VEHICLE_TYPE',\n",
       "       'SPEEDING_VIOLATIONS', 'DUIS', 'PAST_ACCIDENTS', 'OUTCOME'],\n",
       "      dtype='object')"
      ]
     },
     "execution_count": 4,
     "metadata": {},
     "output_type": "execute_result"
    }
   ],
   "source": [
    "ci.columns"
   ]
  },
  {
   "cell_type": "markdown",
   "metadata": {},
   "source": [
    "### Названия признаков:\n",
    "- ID                   - идентификатор водителя\n",
    "- AGE                  - возраст водителя\n",
    "- GENDER               - пол водителя\n",
    "- RACE                 - \"гоняет\" ли водитель\n",
    "- DRIVING_EXPERIENCE   - водительский стаж\n",
    "- EDUCATION            - образование\n",
    "- INCOME               - уровень дохода\n",
    "- CREDIT_SCORE         - \"кредитный рейтинг\"\n",
    "- VEHICLE_OWNERSHIP    - нахождение страхуемого автомобиля в собственности у данного водителя\n",
    "- VEHICLE_YEAR         - год выпуска автомобиля\n",
    "- MARRIED              - состоит ли водитель в браке\n",
    "- CHILDREN             - наличие детей у водителя\n",
    "- POSTAL_CODE          - почтовый индекс (район места жительства) водителя\n",
    "- ANNUAL_MILEAGE       - годовой пробег автомобиля в милях\n",
    "- VEHICLE_TYPE         - тип кузова автомобиля (класс)\n",
    "- SPEEDING_VIOLATIONS  - количество нарушений водителем скоростного режима\n",
    "- DUIS                 - зафиксированные случаи пьянства за рулём\n",
    "- PAST_ACCIDENTS       - количество прошедших инцидентов с участием данного водителя\n",
    "- OUTCOME              - результат (обратился водитель в страховую компанию за выплатой или нет) - признак, который нужно предсказать\n",
    "\n",
    "Среди признаков фигурируют категориальные (например, AGE и INCOME), количественные (например, SPEEDING_VIOLATIONS) и бинарные (включая целевой OUTCOME).\n",
    "\n",
    "Убедимся, что значения категориальных признаков в данный момент имеют тип \"object\", и заменим его на специальный, предназначенный для хранения категориальных значений:"
   ]
  },
  {
   "cell_type": "code",
   "execution_count": 5,
   "metadata": {},
   "outputs": [
    {
     "name": "stdout",
     "output_type": "stream",
     "text": [
      "object object object object object object object object\n"
     ]
    }
   ],
   "source": [
    "print(ci['DRIVING_EXPERIENCE'].dtype,\n",
    "ci['AGE'].dtype,\n",
    "ci['GENDER'].dtype,\n",
    "ci['RACE'].dtype,\n",
    "ci['EDUCATION'].dtype,\n",
    "ci['VEHICLE_TYPE'].dtype,\n",
    "ci['VEHICLE_YEAR'].dtype,\n",
    "ci['INCOME'].dtype)"
   ]
  },
  {
   "cell_type": "code",
   "execution_count": 6,
   "metadata": {
    "scrolled": true
   },
   "outputs": [
    {
     "data": {
      "text/plain": [
       "CategoricalDtype(categories=['0-9y', '10-19y', '20-29y', '30y+'], ordered=False)"
      ]
     },
     "execution_count": 6,
     "metadata": {},
     "output_type": "execute_result"
    }
   ],
   "source": [
    "ci['DRIVING_EXPERIENCE'] = ci['DRIVING_EXPERIENCE'].astype('category')\n",
    "ci['DRIVING_EXPERIENCE'].dtype"
   ]
  },
  {
   "cell_type": "code",
   "execution_count": 7,
   "metadata": {},
   "outputs": [],
   "source": [
    "ci['AGE'] = ci['AGE'].astype('category')\n",
    "ci['GENDER'] = ci['GENDER'].astype('category')\n",
    "ci['RACE'] = ci['RACE'].astype('category')\n",
    "ci['EDUCATION'] = ci['EDUCATION'].astype('category')\n",
    "ci['VEHICLE_TYPE'] = ci['VEHICLE_TYPE'].astype('category')\n",
    "ci['VEHICLE_YEAR'] = ci['VEHICLE_YEAR'].astype('category')\n",
    "ci['INCOME'] = ci['INCOME'].astype('category')"
   ]
  },
  {
   "cell_type": "markdown",
   "metadata": {},
   "source": [
    "Заодно изменим тип данных тех признаков, которые мы считаем бинарными (в том числе целевой), на bool, чтобы при рассмотрении статистики и визуализации данных данные признаки не входили в обзор вместе с количественными. После этого соответствующие им столбцы будут иметь значения True или False."
   ]
  },
  {
   "cell_type": "code",
   "execution_count": 8,
   "metadata": {
    "scrolled": true
   },
   "outputs": [
    {
     "data": {
      "text/html": [
       "<div>\n",
       "<style scoped>\n",
       "    .dataframe tbody tr th:only-of-type {\n",
       "        vertical-align: middle;\n",
       "    }\n",
       "\n",
       "    .dataframe tbody tr th {\n",
       "        vertical-align: top;\n",
       "    }\n",
       "\n",
       "    .dataframe thead th {\n",
       "        text-align: right;\n",
       "    }\n",
       "</style>\n",
       "<table border=\"1\" class=\"dataframe\">\n",
       "  <thead>\n",
       "    <tr style=\"text-align: right;\">\n",
       "      <th></th>\n",
       "      <th>ID</th>\n",
       "      <th>AGE</th>\n",
       "      <th>GENDER</th>\n",
       "      <th>RACE</th>\n",
       "      <th>DRIVING_EXPERIENCE</th>\n",
       "      <th>EDUCATION</th>\n",
       "      <th>INCOME</th>\n",
       "      <th>CREDIT_SCORE</th>\n",
       "      <th>VEHICLE_OWNERSHIP</th>\n",
       "      <th>VEHICLE_YEAR</th>\n",
       "      <th>MARRIED</th>\n",
       "      <th>CHILDREN</th>\n",
       "      <th>POSTAL_CODE</th>\n",
       "      <th>ANNUAL_MILEAGE</th>\n",
       "      <th>VEHICLE_TYPE</th>\n",
       "      <th>SPEEDING_VIOLATIONS</th>\n",
       "      <th>DUIS</th>\n",
       "      <th>PAST_ACCIDENTS</th>\n",
       "      <th>OUTCOME</th>\n",
       "    </tr>\n",
       "  </thead>\n",
       "  <tbody>\n",
       "    <tr>\n",
       "      <th>0</th>\n",
       "      <td>569520</td>\n",
       "      <td>65+</td>\n",
       "      <td>female</td>\n",
       "      <td>majority</td>\n",
       "      <td>0-9y</td>\n",
       "      <td>high school</td>\n",
       "      <td>upper class</td>\n",
       "      <td>0.629027</td>\n",
       "      <td>True</td>\n",
       "      <td>after 2015</td>\n",
       "      <td>False</td>\n",
       "      <td>True</td>\n",
       "      <td>10238</td>\n",
       "      <td>12000.0</td>\n",
       "      <td>sedan</td>\n",
       "      <td>0</td>\n",
       "      <td>0</td>\n",
       "      <td>0</td>\n",
       "      <td>False</td>\n",
       "    </tr>\n",
       "    <tr>\n",
       "      <th>1</th>\n",
       "      <td>750365</td>\n",
       "      <td>16-25</td>\n",
       "      <td>male</td>\n",
       "      <td>majority</td>\n",
       "      <td>0-9y</td>\n",
       "      <td>none</td>\n",
       "      <td>poverty</td>\n",
       "      <td>0.357757</td>\n",
       "      <td>False</td>\n",
       "      <td>before 2015</td>\n",
       "      <td>False</td>\n",
       "      <td>False</td>\n",
       "      <td>10238</td>\n",
       "      <td>16000.0</td>\n",
       "      <td>sedan</td>\n",
       "      <td>0</td>\n",
       "      <td>0</td>\n",
       "      <td>0</td>\n",
       "      <td>True</td>\n",
       "    </tr>\n",
       "    <tr>\n",
       "      <th>2</th>\n",
       "      <td>199901</td>\n",
       "      <td>16-25</td>\n",
       "      <td>female</td>\n",
       "      <td>majority</td>\n",
       "      <td>0-9y</td>\n",
       "      <td>high school</td>\n",
       "      <td>working class</td>\n",
       "      <td>0.493146</td>\n",
       "      <td>True</td>\n",
       "      <td>before 2015</td>\n",
       "      <td>False</td>\n",
       "      <td>False</td>\n",
       "      <td>10238</td>\n",
       "      <td>11000.0</td>\n",
       "      <td>sedan</td>\n",
       "      <td>0</td>\n",
       "      <td>0</td>\n",
       "      <td>0</td>\n",
       "      <td>False</td>\n",
       "    </tr>\n",
       "    <tr>\n",
       "      <th>3</th>\n",
       "      <td>478866</td>\n",
       "      <td>16-25</td>\n",
       "      <td>male</td>\n",
       "      <td>majority</td>\n",
       "      <td>0-9y</td>\n",
       "      <td>university</td>\n",
       "      <td>working class</td>\n",
       "      <td>0.206013</td>\n",
       "      <td>True</td>\n",
       "      <td>before 2015</td>\n",
       "      <td>False</td>\n",
       "      <td>True</td>\n",
       "      <td>32765</td>\n",
       "      <td>11000.0</td>\n",
       "      <td>sedan</td>\n",
       "      <td>0</td>\n",
       "      <td>0</td>\n",
       "      <td>0</td>\n",
       "      <td>False</td>\n",
       "    </tr>\n",
       "    <tr>\n",
       "      <th>4</th>\n",
       "      <td>731664</td>\n",
       "      <td>26-39</td>\n",
       "      <td>male</td>\n",
       "      <td>majority</td>\n",
       "      <td>10-19y</td>\n",
       "      <td>none</td>\n",
       "      <td>working class</td>\n",
       "      <td>0.388366</td>\n",
       "      <td>True</td>\n",
       "      <td>before 2015</td>\n",
       "      <td>False</td>\n",
       "      <td>False</td>\n",
       "      <td>32765</td>\n",
       "      <td>12000.0</td>\n",
       "      <td>sedan</td>\n",
       "      <td>2</td>\n",
       "      <td>0</td>\n",
       "      <td>1</td>\n",
       "      <td>True</td>\n",
       "    </tr>\n",
       "  </tbody>\n",
       "</table>\n",
       "</div>"
      ],
      "text/plain": [
       "       ID    AGE  GENDER      RACE DRIVING_EXPERIENCE    EDUCATION  \\\n",
       "0  569520    65+  female  majority               0-9y  high school   \n",
       "1  750365  16-25    male  majority               0-9y         none   \n",
       "2  199901  16-25  female  majority               0-9y  high school   \n",
       "3  478866  16-25    male  majority               0-9y   university   \n",
       "4  731664  26-39    male  majority             10-19y         none   \n",
       "\n",
       "          INCOME  CREDIT_SCORE  VEHICLE_OWNERSHIP VEHICLE_YEAR  MARRIED  \\\n",
       "0    upper class      0.629027               True   after 2015    False   \n",
       "1        poverty      0.357757              False  before 2015    False   \n",
       "2  working class      0.493146               True  before 2015    False   \n",
       "3  working class      0.206013               True  before 2015    False   \n",
       "4  working class      0.388366               True  before 2015    False   \n",
       "\n",
       "   CHILDREN  POSTAL_CODE  ANNUAL_MILEAGE VEHICLE_TYPE  SPEEDING_VIOLATIONS  \\\n",
       "0      True        10238         12000.0        sedan                    0   \n",
       "1     False        10238         16000.0        sedan                    0   \n",
       "2     False        10238         11000.0        sedan                    0   \n",
       "3      True        32765         11000.0        sedan                    0   \n",
       "4     False        32765         12000.0        sedan                    2   \n",
       "\n",
       "   DUIS  PAST_ACCIDENTS  OUTCOME  \n",
       "0     0               0    False  \n",
       "1     0               0     True  \n",
       "2     0               0    False  \n",
       "3     0               0    False  \n",
       "4     0               1     True  "
      ]
     },
     "execution_count": 8,
     "metadata": {},
     "output_type": "execute_result"
    }
   ],
   "source": [
    "ci['VEHICLE_OWNERSHIP'] = ci['VEHICLE_OWNERSHIP'].astype('bool')\n",
    "ci['MARRIED'] = ci['MARRIED'].astype('bool')\n",
    "ci['CHILDREN'] = ci['CHILDREN'].astype('bool')\n",
    "ci['OUTCOME'] = ci['OUTCOME'].astype('bool')\n",
    "ci.head()"
   ]
  },
  {
   "cell_type": "markdown",
   "metadata": {},
   "source": [
    "Обратим внимание, что в двух столбцах есть пропущенные значения:"
   ]
  },
  {
   "cell_type": "code",
   "execution_count": 9,
   "metadata": {
    "scrolled": true
   },
   "outputs": [
    {
     "data": {
      "text/plain": [
       "ID                       0\n",
       "AGE                      0\n",
       "GENDER                   0\n",
       "RACE                     0\n",
       "DRIVING_EXPERIENCE       0\n",
       "EDUCATION                0\n",
       "INCOME                   0\n",
       "CREDIT_SCORE           982\n",
       "VEHICLE_OWNERSHIP        0\n",
       "VEHICLE_YEAR             0\n",
       "MARRIED                  0\n",
       "CHILDREN                 0\n",
       "POSTAL_CODE              0\n",
       "ANNUAL_MILEAGE         957\n",
       "VEHICLE_TYPE             0\n",
       "SPEEDING_VIOLATIONS      0\n",
       "DUIS                     0\n",
       "PAST_ACCIDENTS           0\n",
       "OUTCOME                  0\n",
       "dtype: int64"
      ]
     },
     "execution_count": 9,
     "metadata": {},
     "output_type": "execute_result"
    }
   ],
   "source": [
    "ci.isna().sum()"
   ]
  },
  {
   "cell_type": "markdown",
   "metadata": {},
   "source": [
    "Убедимся, что можем выводить не всю таблицу \"целиком\", но и, например, отдельные столбцы:"
   ]
  },
  {
   "cell_type": "code",
   "execution_count": 10,
   "metadata": {},
   "outputs": [
    {
     "data": {
      "text/html": [
       "<div>\n",
       "<style scoped>\n",
       "    .dataframe tbody tr th:only-of-type {\n",
       "        vertical-align: middle;\n",
       "    }\n",
       "\n",
       "    .dataframe tbody tr th {\n",
       "        vertical-align: top;\n",
       "    }\n",
       "\n",
       "    .dataframe thead th {\n",
       "        text-align: right;\n",
       "    }\n",
       "</style>\n",
       "<table border=\"1\" class=\"dataframe\">\n",
       "  <thead>\n",
       "    <tr style=\"text-align: right;\">\n",
       "      <th></th>\n",
       "      <th>AGE</th>\n",
       "      <th>OUTCOME</th>\n",
       "    </tr>\n",
       "  </thead>\n",
       "  <tbody>\n",
       "    <tr>\n",
       "      <th>0</th>\n",
       "      <td>65+</td>\n",
       "      <td>False</td>\n",
       "    </tr>\n",
       "    <tr>\n",
       "      <th>1</th>\n",
       "      <td>16-25</td>\n",
       "      <td>True</td>\n",
       "    </tr>\n",
       "    <tr>\n",
       "      <th>2</th>\n",
       "      <td>16-25</td>\n",
       "      <td>False</td>\n",
       "    </tr>\n",
       "    <tr>\n",
       "      <th>3</th>\n",
       "      <td>16-25</td>\n",
       "      <td>False</td>\n",
       "    </tr>\n",
       "    <tr>\n",
       "      <th>4</th>\n",
       "      <td>26-39</td>\n",
       "      <td>True</td>\n",
       "    </tr>\n",
       "    <tr>\n",
       "      <th>...</th>\n",
       "      <td>...</td>\n",
       "      <td>...</td>\n",
       "    </tr>\n",
       "    <tr>\n",
       "      <th>9995</th>\n",
       "      <td>26-39</td>\n",
       "      <td>False</td>\n",
       "    </tr>\n",
       "    <tr>\n",
       "      <th>9996</th>\n",
       "      <td>26-39</td>\n",
       "      <td>False</td>\n",
       "    </tr>\n",
       "    <tr>\n",
       "      <th>9997</th>\n",
       "      <td>26-39</td>\n",
       "      <td>False</td>\n",
       "    </tr>\n",
       "    <tr>\n",
       "      <th>9998</th>\n",
       "      <td>26-39</td>\n",
       "      <td>True</td>\n",
       "    </tr>\n",
       "    <tr>\n",
       "      <th>9999</th>\n",
       "      <td>26-39</td>\n",
       "      <td>False</td>\n",
       "    </tr>\n",
       "  </tbody>\n",
       "</table>\n",
       "<p>10000 rows × 2 columns</p>\n",
       "</div>"
      ],
      "text/plain": [
       "        AGE  OUTCOME\n",
       "0       65+    False\n",
       "1     16-25     True\n",
       "2     16-25    False\n",
       "3     16-25    False\n",
       "4     26-39     True\n",
       "...     ...      ...\n",
       "9995  26-39    False\n",
       "9996  26-39    False\n",
       "9997  26-39    False\n",
       "9998  26-39     True\n",
       "9999  26-39    False\n",
       "\n",
       "[10000 rows x 2 columns]"
      ]
     },
     "execution_count": 10,
     "metadata": {},
     "output_type": "execute_result"
    }
   ],
   "source": [
    "ci.loc[:, ['AGE', 'OUTCOME']]"
   ]
  },
  {
   "cell_type": "markdown",
   "metadata": {},
   "source": [
    "## Визуализация данных и вычисление основных характеристик\n",
    "Для начала посмотрим на таблицу, содержащую сводную информацию о признаках:"
   ]
  },
  {
   "cell_type": "code",
   "execution_count": 11,
   "metadata": {},
   "outputs": [
    {
     "data": {
      "text/html": [
       "<div>\n",
       "<style scoped>\n",
       "    .dataframe tbody tr th:only-of-type {\n",
       "        vertical-align: middle;\n",
       "    }\n",
       "\n",
       "    .dataframe tbody tr th {\n",
       "        vertical-align: top;\n",
       "    }\n",
       "\n",
       "    .dataframe thead th {\n",
       "        text-align: right;\n",
       "    }\n",
       "</style>\n",
       "<table border=\"1\" class=\"dataframe\">\n",
       "  <thead>\n",
       "    <tr style=\"text-align: right;\">\n",
       "      <th></th>\n",
       "      <th>ID</th>\n",
       "      <th>CREDIT_SCORE</th>\n",
       "      <th>POSTAL_CODE</th>\n",
       "      <th>ANNUAL_MILEAGE</th>\n",
       "      <th>SPEEDING_VIOLATIONS</th>\n",
       "      <th>DUIS</th>\n",
       "      <th>PAST_ACCIDENTS</th>\n",
       "    </tr>\n",
       "  </thead>\n",
       "  <tbody>\n",
       "    <tr>\n",
       "      <th>count</th>\n",
       "      <td>10000.000000</td>\n",
       "      <td>9018.000000</td>\n",
       "      <td>10000.000000</td>\n",
       "      <td>9043.000000</td>\n",
       "      <td>10000.000000</td>\n",
       "      <td>10000.00000</td>\n",
       "      <td>10000.000000</td>\n",
       "    </tr>\n",
       "    <tr>\n",
       "      <th>mean</th>\n",
       "      <td>500521.906800</td>\n",
       "      <td>0.515813</td>\n",
       "      <td>19864.548400</td>\n",
       "      <td>11697.003207</td>\n",
       "      <td>1.482900</td>\n",
       "      <td>0.23920</td>\n",
       "      <td>1.056300</td>\n",
       "    </tr>\n",
       "    <tr>\n",
       "      <th>std</th>\n",
       "      <td>290030.768758</td>\n",
       "      <td>0.137688</td>\n",
       "      <td>18915.613855</td>\n",
       "      <td>2818.434528</td>\n",
       "      <td>2.241966</td>\n",
       "      <td>0.55499</td>\n",
       "      <td>1.652454</td>\n",
       "    </tr>\n",
       "    <tr>\n",
       "      <th>min</th>\n",
       "      <td>101.000000</td>\n",
       "      <td>0.053358</td>\n",
       "      <td>10238.000000</td>\n",
       "      <td>2000.000000</td>\n",
       "      <td>0.000000</td>\n",
       "      <td>0.00000</td>\n",
       "      <td>0.000000</td>\n",
       "    </tr>\n",
       "    <tr>\n",
       "      <th>25%</th>\n",
       "      <td>249638.500000</td>\n",
       "      <td>0.417191</td>\n",
       "      <td>10238.000000</td>\n",
       "      <td>10000.000000</td>\n",
       "      <td>0.000000</td>\n",
       "      <td>0.00000</td>\n",
       "      <td>0.000000</td>\n",
       "    </tr>\n",
       "    <tr>\n",
       "      <th>50%</th>\n",
       "      <td>501777.000000</td>\n",
       "      <td>0.525033</td>\n",
       "      <td>10238.000000</td>\n",
       "      <td>12000.000000</td>\n",
       "      <td>0.000000</td>\n",
       "      <td>0.00000</td>\n",
       "      <td>0.000000</td>\n",
       "    </tr>\n",
       "    <tr>\n",
       "      <th>75%</th>\n",
       "      <td>753974.500000</td>\n",
       "      <td>0.618312</td>\n",
       "      <td>32765.000000</td>\n",
       "      <td>14000.000000</td>\n",
       "      <td>2.000000</td>\n",
       "      <td>0.00000</td>\n",
       "      <td>2.000000</td>\n",
       "    </tr>\n",
       "    <tr>\n",
       "      <th>max</th>\n",
       "      <td>999976.000000</td>\n",
       "      <td>0.960819</td>\n",
       "      <td>92101.000000</td>\n",
       "      <td>22000.000000</td>\n",
       "      <td>22.000000</td>\n",
       "      <td>6.00000</td>\n",
       "      <td>15.000000</td>\n",
       "    </tr>\n",
       "  </tbody>\n",
       "</table>\n",
       "</div>"
      ],
      "text/plain": [
       "                  ID  CREDIT_SCORE   POSTAL_CODE  ANNUAL_MILEAGE  \\\n",
       "count   10000.000000   9018.000000  10000.000000     9043.000000   \n",
       "mean   500521.906800      0.515813  19864.548400    11697.003207   \n",
       "std    290030.768758      0.137688  18915.613855     2818.434528   \n",
       "min       101.000000      0.053358  10238.000000     2000.000000   \n",
       "25%    249638.500000      0.417191  10238.000000    10000.000000   \n",
       "50%    501777.000000      0.525033  10238.000000    12000.000000   \n",
       "75%    753974.500000      0.618312  32765.000000    14000.000000   \n",
       "max    999976.000000      0.960819  92101.000000    22000.000000   \n",
       "\n",
       "       SPEEDING_VIOLATIONS         DUIS  PAST_ACCIDENTS  \n",
       "count         10000.000000  10000.00000    10000.000000  \n",
       "mean              1.482900      0.23920        1.056300  \n",
       "std               2.241966      0.55499        1.652454  \n",
       "min               0.000000      0.00000        0.000000  \n",
       "25%               0.000000      0.00000        0.000000  \n",
       "50%               0.000000      0.00000        0.000000  \n",
       "75%               2.000000      0.00000        2.000000  \n",
       "max              22.000000      6.00000       15.000000  "
      ]
     },
     "execution_count": 11,
     "metadata": {},
     "output_type": "execute_result"
    }
   ],
   "source": [
    "ci.describe()"
   ]
  },
  {
   "cell_type": "markdown",
   "metadata": {},
   "source": [
    "Эта таблица содержит информацию о количественных признаках. Так, например, максимальный кредитный рейтинг среди всех водителей составляет 0.960819, а значение в 12000 миль делит все значения годовых пробегов на две половины: больших и меньших значений. Теперь получим информацию о категориальных:"
   ]
  },
  {
   "cell_type": "code",
   "execution_count": 12,
   "metadata": {},
   "outputs": [
    {
     "data": {
      "text/html": [
       "<div>\n",
       "<style scoped>\n",
       "    .dataframe tbody tr th:only-of-type {\n",
       "        vertical-align: middle;\n",
       "    }\n",
       "\n",
       "    .dataframe tbody tr th {\n",
       "        vertical-align: top;\n",
       "    }\n",
       "\n",
       "    .dataframe thead th {\n",
       "        text-align: right;\n",
       "    }\n",
       "</style>\n",
       "<table border=\"1\" class=\"dataframe\">\n",
       "  <thead>\n",
       "    <tr style=\"text-align: right;\">\n",
       "      <th></th>\n",
       "      <th>AGE</th>\n",
       "      <th>GENDER</th>\n",
       "      <th>RACE</th>\n",
       "      <th>DRIVING_EXPERIENCE</th>\n",
       "      <th>EDUCATION</th>\n",
       "      <th>INCOME</th>\n",
       "      <th>VEHICLE_YEAR</th>\n",
       "      <th>VEHICLE_TYPE</th>\n",
       "    </tr>\n",
       "  </thead>\n",
       "  <tbody>\n",
       "    <tr>\n",
       "      <th>count</th>\n",
       "      <td>10000</td>\n",
       "      <td>10000</td>\n",
       "      <td>10000</td>\n",
       "      <td>10000</td>\n",
       "      <td>10000</td>\n",
       "      <td>10000</td>\n",
       "      <td>10000</td>\n",
       "      <td>10000</td>\n",
       "    </tr>\n",
       "    <tr>\n",
       "      <th>unique</th>\n",
       "      <td>4</td>\n",
       "      <td>2</td>\n",
       "      <td>2</td>\n",
       "      <td>4</td>\n",
       "      <td>3</td>\n",
       "      <td>4</td>\n",
       "      <td>2</td>\n",
       "      <td>2</td>\n",
       "    </tr>\n",
       "    <tr>\n",
       "      <th>top</th>\n",
       "      <td>26-39</td>\n",
       "      <td>female</td>\n",
       "      <td>majority</td>\n",
       "      <td>0-9y</td>\n",
       "      <td>high school</td>\n",
       "      <td>upper class</td>\n",
       "      <td>before 2015</td>\n",
       "      <td>sedan</td>\n",
       "    </tr>\n",
       "    <tr>\n",
       "      <th>freq</th>\n",
       "      <td>3063</td>\n",
       "      <td>5010</td>\n",
       "      <td>9012</td>\n",
       "      <td>3530</td>\n",
       "      <td>4157</td>\n",
       "      <td>4336</td>\n",
       "      <td>6967</td>\n",
       "      <td>9523</td>\n",
       "    </tr>\n",
       "  </tbody>\n",
       "</table>\n",
       "</div>"
      ],
      "text/plain": [
       "          AGE  GENDER      RACE DRIVING_EXPERIENCE    EDUCATION       INCOME  \\\n",
       "count   10000   10000     10000              10000        10000        10000   \n",
       "unique      4       2         2                  4            3            4   \n",
       "top     26-39  female  majority               0-9y  high school  upper class   \n",
       "freq     3063    5010      9012               3530         4157         4336   \n",
       "\n",
       "       VEHICLE_YEAR VEHICLE_TYPE  \n",
       "count         10000        10000  \n",
       "unique            2            2  \n",
       "top     before 2015        sedan  \n",
       "freq           6967         9523  "
      ]
     },
     "execution_count": 12,
     "metadata": {},
     "output_type": "execute_result"
    }
   ],
   "source": [
    "ci.describe(include=['category'])"
   ]
  },
  {
   "cell_type": "markdown",
   "metadata": {},
   "source": [
    "Отсюда мы можем видеть, например, то, что среди категориальных признаков нет пропущенных значений, база данных резделяет 3 уровня образования, а большинство водителей в базе - женского пола, каковых насчитывается 5010 человек. Аналогичную таблицу выведем и для бинарных признаков:"
   ]
  },
  {
   "cell_type": "code",
   "execution_count": 13,
   "metadata": {},
   "outputs": [
    {
     "data": {
      "text/html": [
       "<div>\n",
       "<style scoped>\n",
       "    .dataframe tbody tr th:only-of-type {\n",
       "        vertical-align: middle;\n",
       "    }\n",
       "\n",
       "    .dataframe tbody tr th {\n",
       "        vertical-align: top;\n",
       "    }\n",
       "\n",
       "    .dataframe thead th {\n",
       "        text-align: right;\n",
       "    }\n",
       "</style>\n",
       "<table border=\"1\" class=\"dataframe\">\n",
       "  <thead>\n",
       "    <tr style=\"text-align: right;\">\n",
       "      <th></th>\n",
       "      <th>VEHICLE_OWNERSHIP</th>\n",
       "      <th>MARRIED</th>\n",
       "      <th>CHILDREN</th>\n",
       "      <th>OUTCOME</th>\n",
       "    </tr>\n",
       "  </thead>\n",
       "  <tbody>\n",
       "    <tr>\n",
       "      <th>count</th>\n",
       "      <td>10000</td>\n",
       "      <td>10000</td>\n",
       "      <td>10000</td>\n",
       "      <td>10000</td>\n",
       "    </tr>\n",
       "    <tr>\n",
       "      <th>unique</th>\n",
       "      <td>2</td>\n",
       "      <td>2</td>\n",
       "      <td>2</td>\n",
       "      <td>2</td>\n",
       "    </tr>\n",
       "    <tr>\n",
       "      <th>top</th>\n",
       "      <td>True</td>\n",
       "      <td>False</td>\n",
       "      <td>True</td>\n",
       "      <td>False</td>\n",
       "    </tr>\n",
       "    <tr>\n",
       "      <th>freq</th>\n",
       "      <td>6970</td>\n",
       "      <td>5018</td>\n",
       "      <td>6888</td>\n",
       "      <td>6867</td>\n",
       "    </tr>\n",
       "  </tbody>\n",
       "</table>\n",
       "</div>"
      ],
      "text/plain": [
       "       VEHICLE_OWNERSHIP MARRIED CHILDREN OUTCOME\n",
       "count              10000   10000    10000   10000\n",
       "unique                 2       2        2       2\n",
       "top                 True   False     True   False\n",
       "freq                6970    5018     6888    6867"
      ]
     },
     "execution_count": 13,
     "metadata": {},
     "output_type": "execute_result"
    }
   ],
   "source": [
    "ci.describe(include=['bool'])"
   ]
  },
  {
   "cell_type": "code",
   "execution_count": 14,
   "metadata": {},
   "outputs": [
    {
     "data": {
      "image/png": "[encoded data removed]",
      "text/plain": [
       "<Figure size 432x288 with 1 Axes>"
      ]
     },
     "metadata": {
      "needs_background": "light"
     },
     "output_type": "display_data"
    }
   ],
   "source": [
    "plt.scatter(ci['INCOME'], ci['CREDIT_SCORE'], alpha=0.01, color = 'gold')\n",
    "pass"
   ]
  },
  {
   "cell_type": "markdown",
   "metadata": {},
   "source": [
    "Данная диаграмма рассеивания показывает, что на кредитный рейтинг клиента страховой компании напрямую влияет его доход: если у небогатого населения большинство значений колеблются примерно от 0,2 до 0,5, то у богатых людей - от 0,4 до 0,8. Мы имеем не так много признаков, которые имеют большой набор различных значений, поэтому в нашем случае диаграмма рассеивания не лучший вариант визуализации данных."
   ]
  },
  {
   "cell_type": "code",
   "execution_count": 15,
   "metadata": {},
   "outputs": [
    {
     "data": {
      "image/png": "[encoded data removed]",
      "text/plain": [
       "<Figure size 720x576 with 1 Axes>"
      ]
     },
     "metadata": {
      "needs_background": "light"
     },
     "output_type": "display_data"
    }
   ],
   "source": [
    "random_subset = np.random.choice(np.arange(ci.shape[0]), size=1000, replace=False)\n",
    "plt.figure(figsize = (10, 8))\n",
    "sns.scatterplot(x='INCOME', y='CREDIT_SCORE', hue='EDUCATION', data=ci.iloc[random_subset], alpha=0.7)\n",
    "pass"
   ]
  },
  {
   "cell_type": "markdown",
   "metadata": {},
   "source": [
    "Это аналогичная диаграмма рассеивания, только имеющая дополнительную информацию о том, что те, кто хорошо зарабатывает, имеют в среднем не только высокий кредитный рейтинг, но и в своём большинстве университетское образование, что нельзя сказать о небогатых людях, многие из которых не имеют никакого образования."
   ]
  },
  {
   "cell_type": "code",
   "execution_count": 16,
   "metadata": {},
   "outputs": [
    {
     "name": "stderr",
     "output_type": "stream",
     "text": [
      "c:\\users\\zayat\\pycharmprojects\\pythonproject\\venv\\lib\\site-packages\\seaborn\\distributions.py:2619: FutureWarning: `distplot` is a deprecated function and will be removed in a future version. Please adapt your code to use either `displot` (a figure-level function with similar flexibility) or `histplot` (an axes-level function for histograms).\n",
      "  warnings.warn(msg, FutureWarning)\n"
     ]
    },
    {
     "data": {
      "image/png": "[encoded data removed]",
      "text/plain": [
       "<Figure size 432x288 with 1 Axes>"
      ]
     },
     "metadata": {
      "needs_background": "light"
     },
     "output_type": "display_data"
    }
   ],
   "source": [
    "sns.distplot(ci['CREDIT_SCORE'], bins=100, color = 'lime')\n",
    "plt.grid()\n",
    "pass"
   ]
  },
  {
   "cell_type": "markdown",
   "metadata": {},
   "source": [
    "Данная гистограмма с графиком показывает распределений значений кредитного рейтинга водителей."
   ]
  },
  {
   "cell_type": "code",
   "execution_count": 17,
   "metadata": {
    "scrolled": true
   },
   "outputs": [
    {
     "name": "stderr",
     "output_type": "stream",
     "text": [
      "c:\\users\\zayat\\pycharmprojects\\pythonproject\\venv\\lib\\site-packages\\seaborn\\distributions.py:2619: FutureWarning: `distplot` is a deprecated function and will be removed in a future version. Please adapt your code to use either `displot` (a figure-level function with similar flexibility) or `histplot` (an axes-level function for histograms).\n",
      "  warnings.warn(msg, FutureWarning)\n"
     ]
    },
    {
     "data": {
      "image/png": "[encoded data removed]",
      "text/plain": [
       "<Figure size 432x288 with 1 Axes>"
      ]
     },
     "metadata": {
      "needs_background": "light"
     },
     "output_type": "display_data"
    }
   ],
   "source": [
    "sns.distplot(ci['ANNUAL_MILEAGE'], bins=10, color = 'teal')\n",
    "plt.grid()\n",
    "pass"
   ]
  },
  {
   "cell_type": "markdown",
   "metadata": {},
   "source": [
    "А эта - распределение годовых пробегов автомобилей."
   ]
  },
  {
   "cell_type": "code",
   "execution_count": 18,
   "metadata": {
    "scrolled": true
   },
   "outputs": [
    {
     "data": {
      "image/png": "[encoded data removed]",
      "text/plain": [
       "<Figure size 432x288 with 1 Axes>"
      ]
     },
     "metadata": {
      "needs_background": "light"
     },
     "output_type": "display_data"
    }
   ],
   "source": [
    "sns.boxplot(x='AGE', y='ANNUAL_MILEAGE', data=ci)\n",
    "pass"
   ]
  },
  {
   "cell_type": "markdown",
   "metadata": {},
   "source": [
    "Это \"ящик с усами\", который помогает проанализировать значения годового пробега автомобилей водителей различных возрастных категорий. Он отображает значения квартильные значения признака ANNUAL_MILEAGE, медианные значения, а также диапазоны значений для разных категорий."
   ]
  },
  {
   "cell_type": "code",
   "execution_count": 19,
   "metadata": {},
   "outputs": [
    {
     "data": {
      "image/png": "[encoded data removed]",
      "text/plain": [
       "<Figure size 432x288 with 1 Axes>"
      ]
     },
     "metadata": {
      "needs_background": "light"
     },
     "output_type": "display_data"
    }
   ],
   "source": [
    "sns.violinplot(x='AGE', y='ANNUAL_MILEAGE', data=ci)\n",
    "pass"
   ]
  },
  {
   "cell_type": "markdown",
   "metadata": {},
   "source": [
    "Скрипичные графики отображают графики аппроксимации плотности вероятности для тех же величин. Данные методы отображения зависимостей не подходят для отображения зависимости целевой функции нашей задачи от других признаков, т.к. она может принимать лишь два значения: True и False."
   ]
  },
  {
   "cell_type": "code",
   "execution_count": 20,
   "metadata": {
    "scrolled": false
   },
   "outputs": [
    {
     "data": {
      "text/html": [
       "<div>\n",
       "<style scoped>\n",
       "    .dataframe tbody tr th:only-of-type {\n",
       "        vertical-align: middle;\n",
       "    }\n",
       "\n",
       "    .dataframe tbody tr th {\n",
       "        vertical-align: top;\n",
       "    }\n",
       "\n",
       "    .dataframe thead th {\n",
       "        text-align: right;\n",
       "    }\n",
       "</style>\n",
       "<table border=\"1\" class=\"dataframe\">\n",
       "  <thead>\n",
       "    <tr style=\"text-align: right;\">\n",
       "      <th></th>\n",
       "      <th>ID</th>\n",
       "      <th>CREDIT_SCORE</th>\n",
       "      <th>VEHICLE_OWNERSHIP</th>\n",
       "      <th>MARRIED</th>\n",
       "      <th>CHILDREN</th>\n",
       "      <th>POSTAL_CODE</th>\n",
       "      <th>ANNUAL_MILEAGE</th>\n",
       "      <th>SPEEDING_VIOLATIONS</th>\n",
       "      <th>DUIS</th>\n",
       "      <th>PAST_ACCIDENTS</th>\n",
       "      <th>OUTCOME</th>\n",
       "    </tr>\n",
       "  </thead>\n",
       "  <tbody>\n",
       "    <tr>\n",
       "      <th>ID</th>\n",
       "      <td>1.000000</td>\n",
       "      <td>0.001704</td>\n",
       "      <td>0.009197</td>\n",
       "      <td>0.014826</td>\n",
       "      <td>0.001233</td>\n",
       "      <td>0.006038</td>\n",
       "      <td>-0.002217</td>\n",
       "      <td>0.008156</td>\n",
       "      <td>0.009268</td>\n",
       "      <td>0.001831</td>\n",
       "      <td>-0.010506</td>\n",
       "    </tr>\n",
       "    <tr>\n",
       "      <th>CREDIT_SCORE</th>\n",
       "      <td>0.001704</td>\n",
       "      <td>1.000000</td>\n",
       "      <td>0.312037</td>\n",
       "      <td>0.281238</td>\n",
       "      <td>0.220658</td>\n",
       "      <td>0.009040</td>\n",
       "      <td>-0.174453</td>\n",
       "      <td>0.204542</td>\n",
       "      <td>0.127366</td>\n",
       "      <td>0.180978</td>\n",
       "      <td>-0.325286</td>\n",
       "    </tr>\n",
       "    <tr>\n",
       "      <th>VEHICLE_OWNERSHIP</th>\n",
       "      <td>0.009197</td>\n",
       "      <td>0.312037</td>\n",
       "      <td>1.000000</td>\n",
       "      <td>0.175626</td>\n",
       "      <td>0.125990</td>\n",
       "      <td>-0.004866</td>\n",
       "      <td>-0.097433</td>\n",
       "      <td>0.133868</td>\n",
       "      <td>0.086567</td>\n",
       "      <td>0.119521</td>\n",
       "      <td>-0.378921</td>\n",
       "    </tr>\n",
       "    <tr>\n",
       "      <th>MARRIED</th>\n",
       "      <td>0.014826</td>\n",
       "      <td>0.281238</td>\n",
       "      <td>0.175626</td>\n",
       "      <td>1.000000</td>\n",
       "      <td>0.287009</td>\n",
       "      <td>0.012045</td>\n",
       "      <td>-0.462193</td>\n",
       "      <td>0.218855</td>\n",
       "      <td>0.120840</td>\n",
       "      <td>0.215269</td>\n",
       "      <td>-0.262104</td>\n",
       "    </tr>\n",
       "    <tr>\n",
       "      <th>CHILDREN</th>\n",
       "      <td>0.001233</td>\n",
       "      <td>0.220658</td>\n",
       "      <td>0.125990</td>\n",
       "      <td>0.287009</td>\n",
       "      <td>1.000000</td>\n",
       "      <td>0.020911</td>\n",
       "      <td>-0.447655</td>\n",
       "      <td>0.220415</td>\n",
       "      <td>0.115354</td>\n",
       "      <td>0.206295</td>\n",
       "      <td>-0.232835</td>\n",
       "    </tr>\n",
       "    <tr>\n",
       "      <th>POSTAL_CODE</th>\n",
       "      <td>0.006038</td>\n",
       "      <td>0.009040</td>\n",
       "      <td>-0.004866</td>\n",
       "      <td>0.012045</td>\n",
       "      <td>0.020911</td>\n",
       "      <td>1.000000</td>\n",
       "      <td>-0.133978</td>\n",
       "      <td>0.113686</td>\n",
       "      <td>0.038492</td>\n",
       "      <td>-0.116985</td>\n",
       "      <td>0.095889</td>\n",
       "    </tr>\n",
       "    <tr>\n",
       "      <th>ANNUAL_MILEAGE</th>\n",
       "      <td>-0.002217</td>\n",
       "      <td>-0.174453</td>\n",
       "      <td>-0.097433</td>\n",
       "      <td>-0.462193</td>\n",
       "      <td>-0.447655</td>\n",
       "      <td>-0.133978</td>\n",
       "      <td>1.000000</td>\n",
       "      <td>-0.323547</td>\n",
       "      <td>-0.116598</td>\n",
       "      <td>-0.195217</td>\n",
       "      <td>0.187154</td>\n",
       "    </tr>\n",
       "    <tr>\n",
       "      <th>SPEEDING_VIOLATIONS</th>\n",
       "      <td>0.008156</td>\n",
       "      <td>0.204542</td>\n",
       "      <td>0.133868</td>\n",
       "      <td>0.218855</td>\n",
       "      <td>0.220415</td>\n",
       "      <td>0.113686</td>\n",
       "      <td>-0.323547</td>\n",
       "      <td>1.000000</td>\n",
       "      <td>0.359838</td>\n",
       "      <td>0.443074</td>\n",
       "      <td>-0.291862</td>\n",
       "    </tr>\n",
       "    <tr>\n",
       "      <th>DUIS</th>\n",
       "      <td>0.009268</td>\n",
       "      <td>0.127366</td>\n",
       "      <td>0.086567</td>\n",
       "      <td>0.120840</td>\n",
       "      <td>0.115354</td>\n",
       "      <td>0.038492</td>\n",
       "      <td>-0.116598</td>\n",
       "      <td>0.359838</td>\n",
       "      <td>1.000000</td>\n",
       "      <td>0.259359</td>\n",
       "      <td>-0.189352</td>\n",
       "    </tr>\n",
       "    <tr>\n",
       "      <th>PAST_ACCIDENTS</th>\n",
       "      <td>0.001831</td>\n",
       "      <td>0.180978</td>\n",
       "      <td>0.119521</td>\n",
       "      <td>0.215269</td>\n",
       "      <td>0.206295</td>\n",
       "      <td>-0.116985</td>\n",
       "      <td>-0.195217</td>\n",
       "      <td>0.443074</td>\n",
       "      <td>0.259359</td>\n",
       "      <td>1.000000</td>\n",
       "      <td>-0.311495</td>\n",
       "    </tr>\n",
       "    <tr>\n",
       "      <th>OUTCOME</th>\n",
       "      <td>-0.010506</td>\n",
       "      <td>-0.325286</td>\n",
       "      <td>-0.378921</td>\n",
       "      <td>-0.262104</td>\n",
       "      <td>-0.232835</td>\n",
       "      <td>0.095889</td>\n",
       "      <td>0.187154</td>\n",
       "      <td>-0.291862</td>\n",
       "      <td>-0.189352</td>\n",
       "      <td>-0.311495</td>\n",
       "      <td>1.000000</td>\n",
       "    </tr>\n",
       "  </tbody>\n",
       "</table>\n",
       "</div>"
      ],
      "text/plain": [
       "                           ID  CREDIT_SCORE  VEHICLE_OWNERSHIP   MARRIED  \\\n",
       "ID                   1.000000      0.001704           0.009197  0.014826   \n",
       "CREDIT_SCORE         0.001704      1.000000           0.312037  0.281238   \n",
       "VEHICLE_OWNERSHIP    0.009197      0.312037           1.000000  0.175626   \n",
       "MARRIED              0.014826      0.281238           0.175626  1.000000   \n",
       "CHILDREN             0.001233      0.220658           0.125990  0.287009   \n",
       "POSTAL_CODE          0.006038      0.009040          -0.004866  0.012045   \n",
       "ANNUAL_MILEAGE      -0.002217     -0.174453          -0.097433 -0.462193   \n",
       "SPEEDING_VIOLATIONS  0.008156      0.204542           0.133868  0.218855   \n",
       "DUIS                 0.009268      0.127366           0.086567  0.120840   \n",
       "PAST_ACCIDENTS       0.001831      0.180978           0.119521  0.215269   \n",
       "OUTCOME             -0.010506     -0.325286          -0.378921 -0.262104   \n",
       "\n",
       "                     CHILDREN  POSTAL_CODE  ANNUAL_MILEAGE  \\\n",
       "ID                   0.001233     0.006038       -0.002217   \n",
       "CREDIT_SCORE         0.220658     0.009040       -0.174453   \n",
       "VEHICLE_OWNERSHIP    0.125990    -0.004866       -0.097433   \n",
       "MARRIED              0.287009     0.012045       -0.462193   \n",
       "CHILDREN             1.000000     0.020911       -0.447655   \n",
       "POSTAL_CODE          0.020911     1.000000       -0.133978   \n",
       "ANNUAL_MILEAGE      -0.447655    -0.133978        1.000000   \n",
       "SPEEDING_VIOLATIONS  0.220415     0.113686       -0.323547   \n",
       "DUIS                 0.115354     0.038492       -0.116598   \n",
       "PAST_ACCIDENTS       0.206295    -0.116985       -0.195217   \n",
       "OUTCOME             -0.232835     0.095889        0.187154   \n",
       "\n",
       "                     SPEEDING_VIOLATIONS      DUIS  PAST_ACCIDENTS   OUTCOME  \n",
       "ID                              0.008156  0.009268        0.001831 -0.010506  \n",
       "CREDIT_SCORE                    0.204542  0.127366        0.180978 -0.325286  \n",
       "VEHICLE_OWNERSHIP               0.133868  0.086567        0.119521 -0.378921  \n",
       "MARRIED                         0.218855  0.120840        0.215269 -0.262104  \n",
       "CHILDREN                        0.220415  0.115354        0.206295 -0.232835  \n",
       "POSTAL_CODE                     0.113686  0.038492       -0.116985  0.095889  \n",
       "ANNUAL_MILEAGE                 -0.323547 -0.116598       -0.195217  0.187154  \n",
       "SPEEDING_VIOLATIONS             1.000000  0.359838        0.443074 -0.291862  \n",
       "DUIS                            0.359838  1.000000        0.259359 -0.189352  \n",
       "PAST_ACCIDENTS                  0.443074  0.259359        1.000000 -0.311495  \n",
       "OUTCOME                        -0.291862 -0.189352       -0.311495  1.000000  "
      ]
     },
     "execution_count": 20,
     "metadata": {},
     "output_type": "execute_result"
    }
   ],
   "source": [
    "corr_mat = ci.corr()\n",
    "corr_mat"
   ]
  },
  {
   "cell_type": "markdown",
   "metadata": {},
   "source": [
    "Выше выведена матрица корреляции, показывающая зависимость количественных и бинарных признаков друг от друга. Также можно визуализировать эту таблицу: чем светлее ячейка, тем меньше по абсолютной величине коэффициент корреляции:"
   ]
  },
  {
   "cell_type": "code",
   "execution_count": 21,
   "metadata": {},
   "outputs": [
    {
     "data": {
      "image/png": "[encoded data removed]",
      "text/plain": [
       "<Figure size 432x288 with 2 Axes>"
      ]
     },
     "metadata": {
      "needs_background": "light"
     },
     "output_type": "display_data"
    }
   ],
   "source": [
    "sns.heatmap(corr_mat, square=True, cmap='coolwarm')\n",
    "pass"
   ]
  },
  {
   "cell_type": "markdown",
   "metadata": {},
   "source": [
    "Можно отследить, насколько сильно одна величина зависит от другой. Например, строка ID - полностью светлая, т.к. это просто идентификатор пользователя, который никак не влияет на остальные признаки.\n",
    "\n",
    "Гистограммы также позволяют наглядно представить те или иные соотношения. Например, соотношение количества людей, состоящих в базе, с разными уровнями дохода:"
   ]
  },
  {
   "cell_type": "code",
   "execution_count": 22,
   "metadata": {},
   "outputs": [
    {
     "data": {
      "image/png": "[encoded data removed]",
      "text/plain": [
       "<Figure size 432x288 with 1 Axes>"
      ]
     },
     "metadata": {
      "needs_background": "light"
     },
     "output_type": "display_data"
    }
   ],
   "source": [
    "sns.countplot(x='INCOME', data=ci)\n",
    "pass"
   ]
  },
  {
   "cell_type": "markdown",
   "metadata": {},
   "source": [
    "Теперь более подробно рассмотрим гистограммы, отображающие средние значения целевого признака при различных значениях других признаков:"
   ]
  },
  {
   "cell_type": "code",
   "execution_count": 23,
   "metadata": {},
   "outputs": [
    {
     "data": {
      "image/png": "[encoded data removed]",
      "text/plain": [
       "<Figure size 432x288 with 1 Axes>"
      ]
     },
     "metadata": {
      "needs_background": "light"
     },
     "output_type": "display_data"
    }
   ],
   "source": [
    "sns.barplot(x='AGE', y='OUTCOME', data=ci)\n",
    "pass"
   ]
  },
  {
   "cell_type": "code",
   "execution_count": 24,
   "metadata": {},
   "outputs": [
    {
     "data": {
      "image/png": "[encoded data removed]",
      "text/plain": [
       "<Figure size 432x288 with 1 Axes>"
      ]
     },
     "metadata": {
      "needs_background": "light"
     },
     "output_type": "display_data"
    }
   ],
   "source": [
    "sns.barplot(x='DRIVING_EXPERIENCE', y='OUTCOME', data=ci)\n",
    "pass"
   ]
  },
  {
   "cell_type": "code",
   "execution_count": 25,
   "metadata": {},
   "outputs": [
    {
     "data": {
      "image/png": "[encoded data removed]",
      "text/plain": [
       "<Figure size 432x288 with 1 Axes>"
      ]
     },
     "metadata": {
      "needs_background": "light"
     },
     "output_type": "display_data"
    }
   ],
   "source": [
    "sns.barplot(x='EDUCATION', y='OUTCOME', data=ci)\n",
    "pass"
   ]
  },
  {
   "cell_type": "code",
   "execution_count": 26,
   "metadata": {
    "scrolled": true
   },
   "outputs": [
    {
     "data": {
      "image/png": "[encoded data removed]",
      "text/plain": [
       "<Figure size 432x288 with 1 Axes>"
      ]
     },
     "metadata": {
      "needs_background": "light"
     },
     "output_type": "display_data"
    }
   ],
   "source": [
    "sns.barplot(x='VEHICLE_TYPE', y='OUTCOME', data=ci)\n",
    "pass"
   ]
  },
  {
   "cell_type": "code",
   "execution_count": 27,
   "metadata": {},
   "outputs": [
    {
     "data": {
      "image/png": "[encoded data removed]",
      "text/plain": [
       "<Figure size 432x288 with 1 Axes>"
      ]
     },
     "metadata": {
      "needs_background": "light"
     },
     "output_type": "display_data"
    }
   ],
   "source": [
    "sns.barplot(x='ANNUAL_MILEAGE', y='OUTCOME', data=ci)\n",
    "pass"
   ]
  },
  {
   "cell_type": "markdown",
   "metadata": {},
   "source": [
    "Из этих гистограмм видно, что, например, возраст и образования водителя, его стаж вождения вполне логично влияют на значение целевой функции: чем моложе водители и меньше их стаж, тем чаще они запрашивают страховые выплаты. А вот тип кузова ТС на значение целевой функции практически не влияет: столбики примерно одинаковой высоты."
   ]
  },
  {
   "cell_type": "markdown",
   "metadata": {},
   "source": [
    "## Обработка пропущенных значений\n",
    "Как мы уже видели, два признака имеют пропущенные значения: CREDIT_SCORE и ANUAL_MILEAGE. Заменим их средними значениями, т.к. это количественные признаки, а также из-за того, что опытным путём в ходе дальнейшего решения задачи было определено, что именно такое заполнение пропущенных значений позволяет решить задачу с большей точностью."
   ]
  },
  {
   "cell_type": "code",
   "execution_count": 28,
   "metadata": {},
   "outputs": [
    {
     "data": {
      "text/plain": [
       "ID                     0\n",
       "AGE                    0\n",
       "GENDER                 0\n",
       "RACE                   0\n",
       "DRIVING_EXPERIENCE     0\n",
       "EDUCATION              0\n",
       "INCOME                 0\n",
       "CREDIT_SCORE           0\n",
       "VEHICLE_OWNERSHIP      0\n",
       "VEHICLE_YEAR           0\n",
       "MARRIED                0\n",
       "CHILDREN               0\n",
       "POSTAL_CODE            0\n",
       "ANNUAL_MILEAGE         0\n",
       "VEHICLE_TYPE           0\n",
       "SPEEDING_VIOLATIONS    0\n",
       "DUIS                   0\n",
       "PAST_ACCIDENTS         0\n",
       "OUTCOME                0\n",
       "dtype: int64"
      ]
     },
     "execution_count": 28,
     "metadata": {},
     "output_type": "execute_result"
    }
   ],
   "source": [
    "ci['CREDIT_SCORE'].fillna(ci['CREDIT_SCORE'].mean(axis = 0), axis=0 , inplace=True)\n",
    "ci['ANNUAL_MILEAGE'].fillna(ci['ANNUAL_MILEAGE'].mean(axis = 0), axis=0, inplace=True)\n",
    "ci.isna().sum()"
   ]
  },
  {
   "cell_type": "markdown",
   "metadata": {},
   "source": [
    "Теперь пропущенных значений нет. Выведем обновлённую сводную таблицу для количественных признаков:"
   ]
  },
  {
   "cell_type": "code",
   "execution_count": 29,
   "metadata": {},
   "outputs": [
    {
     "data": {
      "text/html": [
       "<div>\n",
       "<style scoped>\n",
       "    .dataframe tbody tr th:only-of-type {\n",
       "        vertical-align: middle;\n",
       "    }\n",
       "\n",
       "    .dataframe tbody tr th {\n",
       "        vertical-align: top;\n",
       "    }\n",
       "\n",
       "    .dataframe thead th {\n",
       "        text-align: right;\n",
       "    }\n",
       "</style>\n",
       "<table border=\"1\" class=\"dataframe\">\n",
       "  <thead>\n",
       "    <tr style=\"text-align: right;\">\n",
       "      <th></th>\n",
       "      <th>ID</th>\n",
       "      <th>CREDIT_SCORE</th>\n",
       "      <th>POSTAL_CODE</th>\n",
       "      <th>ANNUAL_MILEAGE</th>\n",
       "      <th>SPEEDING_VIOLATIONS</th>\n",
       "      <th>DUIS</th>\n",
       "      <th>PAST_ACCIDENTS</th>\n",
       "    </tr>\n",
       "  </thead>\n",
       "  <tbody>\n",
       "    <tr>\n",
       "      <th>count</th>\n",
       "      <td>10000.000000</td>\n",
       "      <td>10000.000000</td>\n",
       "      <td>10000.000000</td>\n",
       "      <td>10000.000000</td>\n",
       "      <td>10000.000000</td>\n",
       "      <td>10000.00000</td>\n",
       "      <td>10000.000000</td>\n",
       "    </tr>\n",
       "    <tr>\n",
       "      <th>mean</th>\n",
       "      <td>500521.906800</td>\n",
       "      <td>0.515813</td>\n",
       "      <td>19864.548400</td>\n",
       "      <td>11697.003207</td>\n",
       "      <td>1.482900</td>\n",
       "      <td>0.23920</td>\n",
       "      <td>1.056300</td>\n",
       "    </tr>\n",
       "    <tr>\n",
       "      <th>std</th>\n",
       "      <td>290030.768758</td>\n",
       "      <td>0.130752</td>\n",
       "      <td>18915.613855</td>\n",
       "      <td>2680.167384</td>\n",
       "      <td>2.241966</td>\n",
       "      <td>0.55499</td>\n",
       "      <td>1.652454</td>\n",
       "    </tr>\n",
       "    <tr>\n",
       "      <th>min</th>\n",
       "      <td>101.000000</td>\n",
       "      <td>0.053358</td>\n",
       "      <td>10238.000000</td>\n",
       "      <td>2000.000000</td>\n",
       "      <td>0.000000</td>\n",
       "      <td>0.00000</td>\n",
       "      <td>0.000000</td>\n",
       "    </tr>\n",
       "    <tr>\n",
       "      <th>25%</th>\n",
       "      <td>249638.500000</td>\n",
       "      <td>0.431509</td>\n",
       "      <td>10238.000000</td>\n",
       "      <td>10000.000000</td>\n",
       "      <td>0.000000</td>\n",
       "      <td>0.00000</td>\n",
       "      <td>0.000000</td>\n",
       "    </tr>\n",
       "    <tr>\n",
       "      <th>50%</th>\n",
       "      <td>501777.000000</td>\n",
       "      <td>0.515813</td>\n",
       "      <td>10238.000000</td>\n",
       "      <td>11697.003207</td>\n",
       "      <td>0.000000</td>\n",
       "      <td>0.00000</td>\n",
       "      <td>0.000000</td>\n",
       "    </tr>\n",
       "    <tr>\n",
       "      <th>75%</th>\n",
       "      <td>753974.500000</td>\n",
       "      <td>0.607607</td>\n",
       "      <td>32765.000000</td>\n",
       "      <td>13000.000000</td>\n",
       "      <td>2.000000</td>\n",
       "      <td>0.00000</td>\n",
       "      <td>2.000000</td>\n",
       "    </tr>\n",
       "    <tr>\n",
       "      <th>max</th>\n",
       "      <td>999976.000000</td>\n",
       "      <td>0.960819</td>\n",
       "      <td>92101.000000</td>\n",
       "      <td>22000.000000</td>\n",
       "      <td>22.000000</td>\n",
       "      <td>6.00000</td>\n",
       "      <td>15.000000</td>\n",
       "    </tr>\n",
       "  </tbody>\n",
       "</table>\n",
       "</div>"
      ],
      "text/plain": [
       "                  ID  CREDIT_SCORE   POSTAL_CODE  ANNUAL_MILEAGE  \\\n",
       "count   10000.000000  10000.000000  10000.000000    10000.000000   \n",
       "mean   500521.906800      0.515813  19864.548400    11697.003207   \n",
       "std    290030.768758      0.130752  18915.613855     2680.167384   \n",
       "min       101.000000      0.053358  10238.000000     2000.000000   \n",
       "25%    249638.500000      0.431509  10238.000000    10000.000000   \n",
       "50%    501777.000000      0.515813  10238.000000    11697.003207   \n",
       "75%    753974.500000      0.607607  32765.000000    13000.000000   \n",
       "max    999976.000000      0.960819  92101.000000    22000.000000   \n",
       "\n",
       "       SPEEDING_VIOLATIONS         DUIS  PAST_ACCIDENTS  \n",
       "count         10000.000000  10000.00000    10000.000000  \n",
       "mean              1.482900      0.23920        1.056300  \n",
       "std               2.241966      0.55499        1.652454  \n",
       "min               0.000000      0.00000        0.000000  \n",
       "25%               0.000000      0.00000        0.000000  \n",
       "50%               0.000000      0.00000        0.000000  \n",
       "75%               2.000000      0.00000        2.000000  \n",
       "max              22.000000      6.00000       15.000000  "
      ]
     },
     "execution_count": 29,
     "metadata": {},
     "output_type": "execute_result"
    }
   ],
   "source": [
    "ci.describe()"
   ]
  },
  {
   "cell_type": "markdown",
   "metadata": {},
   "source": [
    "## Обработка и категориальных признаков\n",
    "Категориальные признаки, которые могут принимать только два значения, преобразуем в числовые. Тогда одному возможному значению каждого из этих признаков будет соответствовать 0, а другому - 1."
   ]
  },
  {
   "cell_type": "code",
   "execution_count": 30,
   "metadata": {},
   "outputs": [
    {
     "data": {
      "text/html": [
       "<div>\n",
       "<style scoped>\n",
       "    .dataframe tbody tr th:only-of-type {\n",
       "        vertical-align: middle;\n",
       "    }\n",
       "\n",
       "    .dataframe tbody tr th {\n",
       "        vertical-align: top;\n",
       "    }\n",
       "\n",
       "    .dataframe thead th {\n",
       "        text-align: right;\n",
       "    }\n",
       "</style>\n",
       "<table border=\"1\" class=\"dataframe\">\n",
       "  <thead>\n",
       "    <tr style=\"text-align: right;\">\n",
       "      <th></th>\n",
       "      <th>ID</th>\n",
       "      <th>AGE</th>\n",
       "      <th>GENDER</th>\n",
       "      <th>RACE</th>\n",
       "      <th>DRIVING_EXPERIENCE</th>\n",
       "      <th>EDUCATION</th>\n",
       "      <th>INCOME</th>\n",
       "      <th>CREDIT_SCORE</th>\n",
       "      <th>VEHICLE_OWNERSHIP</th>\n",
       "      <th>VEHICLE_YEAR</th>\n",
       "      <th>MARRIED</th>\n",
       "      <th>CHILDREN</th>\n",
       "      <th>POSTAL_CODE</th>\n",
       "      <th>ANNUAL_MILEAGE</th>\n",
       "      <th>VEHICLE_TYPE</th>\n",
       "      <th>SPEEDING_VIOLATIONS</th>\n",
       "      <th>DUIS</th>\n",
       "      <th>PAST_ACCIDENTS</th>\n",
       "      <th>OUTCOME</th>\n",
       "    </tr>\n",
       "  </thead>\n",
       "  <tbody>\n",
       "    <tr>\n",
       "      <th>0</th>\n",
       "      <td>569520</td>\n",
       "      <td>65+</td>\n",
       "      <td>0</td>\n",
       "      <td>0</td>\n",
       "      <td>0-9y</td>\n",
       "      <td>high school</td>\n",
       "      <td>upper class</td>\n",
       "      <td>0.629027</td>\n",
       "      <td>True</td>\n",
       "      <td>0</td>\n",
       "      <td>False</td>\n",
       "      <td>True</td>\n",
       "      <td>10238</td>\n",
       "      <td>12000.0</td>\n",
       "      <td>0</td>\n",
       "      <td>0</td>\n",
       "      <td>0</td>\n",
       "      <td>0</td>\n",
       "      <td>False</td>\n",
       "    </tr>\n",
       "    <tr>\n",
       "      <th>1</th>\n",
       "      <td>750365</td>\n",
       "      <td>16-25</td>\n",
       "      <td>1</td>\n",
       "      <td>0</td>\n",
       "      <td>0-9y</td>\n",
       "      <td>none</td>\n",
       "      <td>poverty</td>\n",
       "      <td>0.357757</td>\n",
       "      <td>False</td>\n",
       "      <td>1</td>\n",
       "      <td>False</td>\n",
       "      <td>False</td>\n",
       "      <td>10238</td>\n",
       "      <td>16000.0</td>\n",
       "      <td>0</td>\n",
       "      <td>0</td>\n",
       "      <td>0</td>\n",
       "      <td>0</td>\n",
       "      <td>True</td>\n",
       "    </tr>\n",
       "    <tr>\n",
       "      <th>2</th>\n",
       "      <td>199901</td>\n",
       "      <td>16-25</td>\n",
       "      <td>0</td>\n",
       "      <td>0</td>\n",
       "      <td>0-9y</td>\n",
       "      <td>high school</td>\n",
       "      <td>working class</td>\n",
       "      <td>0.493146</td>\n",
       "      <td>True</td>\n",
       "      <td>1</td>\n",
       "      <td>False</td>\n",
       "      <td>False</td>\n",
       "      <td>10238</td>\n",
       "      <td>11000.0</td>\n",
       "      <td>0</td>\n",
       "      <td>0</td>\n",
       "      <td>0</td>\n",
       "      <td>0</td>\n",
       "      <td>False</td>\n",
       "    </tr>\n",
       "    <tr>\n",
       "      <th>3</th>\n",
       "      <td>478866</td>\n",
       "      <td>16-25</td>\n",
       "      <td>1</td>\n",
       "      <td>0</td>\n",
       "      <td>0-9y</td>\n",
       "      <td>university</td>\n",
       "      <td>working class</td>\n",
       "      <td>0.206013</td>\n",
       "      <td>True</td>\n",
       "      <td>1</td>\n",
       "      <td>False</td>\n",
       "      <td>True</td>\n",
       "      <td>32765</td>\n",
       "      <td>11000.0</td>\n",
       "      <td>0</td>\n",
       "      <td>0</td>\n",
       "      <td>0</td>\n",
       "      <td>0</td>\n",
       "      <td>False</td>\n",
       "    </tr>\n",
       "    <tr>\n",
       "      <th>4</th>\n",
       "      <td>731664</td>\n",
       "      <td>26-39</td>\n",
       "      <td>1</td>\n",
       "      <td>0</td>\n",
       "      <td>10-19y</td>\n",
       "      <td>none</td>\n",
       "      <td>working class</td>\n",
       "      <td>0.388366</td>\n",
       "      <td>True</td>\n",
       "      <td>1</td>\n",
       "      <td>False</td>\n",
       "      <td>False</td>\n",
       "      <td>32765</td>\n",
       "      <td>12000.0</td>\n",
       "      <td>0</td>\n",
       "      <td>2</td>\n",
       "      <td>0</td>\n",
       "      <td>1</td>\n",
       "      <td>True</td>\n",
       "    </tr>\n",
       "  </tbody>\n",
       "</table>\n",
       "</div>"
      ],
      "text/plain": [
       "       ID    AGE  GENDER  RACE DRIVING_EXPERIENCE    EDUCATION         INCOME  \\\n",
       "0  569520    65+       0     0               0-9y  high school    upper class   \n",
       "1  750365  16-25       1     0               0-9y         none        poverty   \n",
       "2  199901  16-25       0     0               0-9y  high school  working class   \n",
       "3  478866  16-25       1     0               0-9y   university  working class   \n",
       "4  731664  26-39       1     0             10-19y         none  working class   \n",
       "\n",
       "   CREDIT_SCORE  VEHICLE_OWNERSHIP  VEHICLE_YEAR  MARRIED  CHILDREN  \\\n",
       "0      0.629027               True             0    False      True   \n",
       "1      0.357757              False             1    False     False   \n",
       "2      0.493146               True             1    False     False   \n",
       "3      0.206013               True             1    False      True   \n",
       "4      0.388366               True             1    False     False   \n",
       "\n",
       "   POSTAL_CODE  ANNUAL_MILEAGE  VEHICLE_TYPE  SPEEDING_VIOLATIONS  DUIS  \\\n",
       "0        10238         12000.0             0                    0     0   \n",
       "1        10238         16000.0             0                    0     0   \n",
       "2        10238         11000.0             0                    0     0   \n",
       "3        32765         11000.0             0                    0     0   \n",
       "4        32765         12000.0             0                    2     0   \n",
       "\n",
       "   PAST_ACCIDENTS  OUTCOME  \n",
       "0               0    False  \n",
       "1               0     True  \n",
       "2               0    False  \n",
       "3               0    False  \n",
       "4               1     True  "
      ]
     },
     "execution_count": 30,
     "metadata": {},
     "output_type": "execute_result"
    }
   ],
   "source": [
    "ci['GENDER'] = pd.factorize(ci['GENDER'])[0]\n",
    "ci['RACE'] = pd.factorize(ci['RACE'])[0]\n",
    "ci['VEHICLE_TYPE'] = pd.factorize(ci['VEHICLE_TYPE'])[0]\n",
    "ci['VEHICLE_YEAR'] = pd.factorize(ci['VEHICLE_YEAR'])[0]\n",
    "ci.head()"
   ]
  },
  {
   "cell_type": "markdown",
   "metadata": {},
   "source": [
    "К оставшимся четырём категориальным признакам применим метод бинаризации, а получившиеся столбцы добавим в исходную таблицу:"
   ]
  },
  {
   "cell_type": "code",
   "execution_count": 31,
   "metadata": {},
   "outputs": [
    {
     "data": {
      "text/html": [
       "<div>\n",
       "<style scoped>\n",
       "    .dataframe tbody tr th:only-of-type {\n",
       "        vertical-align: middle;\n",
       "    }\n",
       "\n",
       "    .dataframe tbody tr th {\n",
       "        vertical-align: top;\n",
       "    }\n",
       "\n",
       "    .dataframe thead th {\n",
       "        text-align: right;\n",
       "    }\n",
       "</style>\n",
       "<table border=\"1\" class=\"dataframe\">\n",
       "  <thead>\n",
       "    <tr style=\"text-align: right;\">\n",
       "      <th></th>\n",
       "      <th>0-9y</th>\n",
       "      <th>10-19y</th>\n",
       "      <th>20-29y</th>\n",
       "      <th>30y+</th>\n",
       "    </tr>\n",
       "  </thead>\n",
       "  <tbody>\n",
       "    <tr>\n",
       "      <th>0</th>\n",
       "      <td>1</td>\n",
       "      <td>0</td>\n",
       "      <td>0</td>\n",
       "      <td>0</td>\n",
       "    </tr>\n",
       "    <tr>\n",
       "      <th>1</th>\n",
       "      <td>1</td>\n",
       "      <td>0</td>\n",
       "      <td>0</td>\n",
       "      <td>0</td>\n",
       "    </tr>\n",
       "    <tr>\n",
       "      <th>2</th>\n",
       "      <td>1</td>\n",
       "      <td>0</td>\n",
       "      <td>0</td>\n",
       "      <td>0</td>\n",
       "    </tr>\n",
       "    <tr>\n",
       "      <th>3</th>\n",
       "      <td>1</td>\n",
       "      <td>0</td>\n",
       "      <td>0</td>\n",
       "      <td>0</td>\n",
       "    </tr>\n",
       "    <tr>\n",
       "      <th>4</th>\n",
       "      <td>0</td>\n",
       "      <td>1</td>\n",
       "      <td>0</td>\n",
       "      <td>0</td>\n",
       "    </tr>\n",
       "  </tbody>\n",
       "</table>\n",
       "</div>"
      ],
      "text/plain": [
       "   0-9y  10-19y  20-29y  30y+\n",
       "0     1       0       0     0\n",
       "1     1       0       0     0\n",
       "2     1       0       0     0\n",
       "3     1       0       0     0\n",
       "4     0       1       0     0"
      ]
     },
     "execution_count": 31,
     "metadata": {},
     "output_type": "execute_result"
    }
   ],
   "source": [
    "DE_dummies = pd.get_dummies(ci['DRIVING_EXPERIENCE'])\n",
    "DE_dummies.head()"
   ]
  },
  {
   "cell_type": "code",
   "execution_count": 32,
   "metadata": {},
   "outputs": [],
   "source": [
    "ci = ci.drop(['DRIVING_EXPERIENCE'], axis=1)"
   ]
  },
  {
   "cell_type": "code",
   "execution_count": 33,
   "metadata": {
    "scrolled": true
   },
   "outputs": [
    {
     "data": {
      "text/html": [
       "<div>\n",
       "<style scoped>\n",
       "    .dataframe tbody tr th:only-of-type {\n",
       "        vertical-align: middle;\n",
       "    }\n",
       "\n",
       "    .dataframe tbody tr th {\n",
       "        vertical-align: top;\n",
       "    }\n",
       "\n",
       "    .dataframe thead th {\n",
       "        text-align: right;\n",
       "    }\n",
       "</style>\n",
       "<table border=\"1\" class=\"dataframe\">\n",
       "  <thead>\n",
       "    <tr style=\"text-align: right;\">\n",
       "      <th></th>\n",
       "      <th>ID</th>\n",
       "      <th>GENDER</th>\n",
       "      <th>RACE</th>\n",
       "      <th>CREDIT_SCORE</th>\n",
       "      <th>VEHICLE_OWNERSHIP</th>\n",
       "      <th>VEHICLE_YEAR</th>\n",
       "      <th>MARRIED</th>\n",
       "      <th>CHILDREN</th>\n",
       "      <th>POSTAL_CODE</th>\n",
       "      <th>ANNUAL_MILEAGE</th>\n",
       "      <th>...</th>\n",
       "      <th>26-39</th>\n",
       "      <th>40-64</th>\n",
       "      <th>65+</th>\n",
       "      <th>high school</th>\n",
       "      <th>none</th>\n",
       "      <th>university</th>\n",
       "      <th>middle class</th>\n",
       "      <th>poverty</th>\n",
       "      <th>upper class</th>\n",
       "      <th>working class</th>\n",
       "    </tr>\n",
       "  </thead>\n",
       "  <tbody>\n",
       "    <tr>\n",
       "      <th>0</th>\n",
       "      <td>569520</td>\n",
       "      <td>0</td>\n",
       "      <td>0</td>\n",
       "      <td>0.629027</td>\n",
       "      <td>True</td>\n",
       "      <td>0</td>\n",
       "      <td>False</td>\n",
       "      <td>True</td>\n",
       "      <td>10238</td>\n",
       "      <td>12000.0</td>\n",
       "      <td>...</td>\n",
       "      <td>0</td>\n",
       "      <td>0</td>\n",
       "      <td>1</td>\n",
       "      <td>1</td>\n",
       "      <td>0</td>\n",
       "      <td>0</td>\n",
       "      <td>0</td>\n",
       "      <td>0</td>\n",
       "      <td>1</td>\n",
       "      <td>0</td>\n",
       "    </tr>\n",
       "    <tr>\n",
       "      <th>1</th>\n",
       "      <td>750365</td>\n",
       "      <td>1</td>\n",
       "      <td>0</td>\n",
       "      <td>0.357757</td>\n",
       "      <td>False</td>\n",
       "      <td>1</td>\n",
       "      <td>False</td>\n",
       "      <td>False</td>\n",
       "      <td>10238</td>\n",
       "      <td>16000.0</td>\n",
       "      <td>...</td>\n",
       "      <td>0</td>\n",
       "      <td>0</td>\n",
       "      <td>0</td>\n",
       "      <td>0</td>\n",
       "      <td>1</td>\n",
       "      <td>0</td>\n",
       "      <td>0</td>\n",
       "      <td>1</td>\n",
       "      <td>0</td>\n",
       "      <td>0</td>\n",
       "    </tr>\n",
       "    <tr>\n",
       "      <th>2</th>\n",
       "      <td>199901</td>\n",
       "      <td>0</td>\n",
       "      <td>0</td>\n",
       "      <td>0.493146</td>\n",
       "      <td>True</td>\n",
       "      <td>1</td>\n",
       "      <td>False</td>\n",
       "      <td>False</td>\n",
       "      <td>10238</td>\n",
       "      <td>11000.0</td>\n",
       "      <td>...</td>\n",
       "      <td>0</td>\n",
       "      <td>0</td>\n",
       "      <td>0</td>\n",
       "      <td>1</td>\n",
       "      <td>0</td>\n",
       "      <td>0</td>\n",
       "      <td>0</td>\n",
       "      <td>0</td>\n",
       "      <td>0</td>\n",
       "      <td>1</td>\n",
       "    </tr>\n",
       "    <tr>\n",
       "      <th>3</th>\n",
       "      <td>478866</td>\n",
       "      <td>1</td>\n",
       "      <td>0</td>\n",
       "      <td>0.206013</td>\n",
       "      <td>True</td>\n",
       "      <td>1</td>\n",
       "      <td>False</td>\n",
       "      <td>True</td>\n",
       "      <td>32765</td>\n",
       "      <td>11000.0</td>\n",
       "      <td>...</td>\n",
       "      <td>0</td>\n",
       "      <td>0</td>\n",
       "      <td>0</td>\n",
       "      <td>0</td>\n",
       "      <td>0</td>\n",
       "      <td>1</td>\n",
       "      <td>0</td>\n",
       "      <td>0</td>\n",
       "      <td>0</td>\n",
       "      <td>1</td>\n",
       "    </tr>\n",
       "    <tr>\n",
       "      <th>4</th>\n",
       "      <td>731664</td>\n",
       "      <td>1</td>\n",
       "      <td>0</td>\n",
       "      <td>0.388366</td>\n",
       "      <td>True</td>\n",
       "      <td>1</td>\n",
       "      <td>False</td>\n",
       "      <td>False</td>\n",
       "      <td>32765</td>\n",
       "      <td>12000.0</td>\n",
       "      <td>...</td>\n",
       "      <td>1</td>\n",
       "      <td>0</td>\n",
       "      <td>0</td>\n",
       "      <td>0</td>\n",
       "      <td>1</td>\n",
       "      <td>0</td>\n",
       "      <td>0</td>\n",
       "      <td>0</td>\n",
       "      <td>0</td>\n",
       "      <td>1</td>\n",
       "    </tr>\n",
       "  </tbody>\n",
       "</table>\n",
       "<p>5 rows × 30 columns</p>\n",
       "</div>"
      ],
      "text/plain": [
       "       ID  GENDER  RACE  CREDIT_SCORE  VEHICLE_OWNERSHIP  VEHICLE_YEAR  \\\n",
       "0  569520       0     0      0.629027               True             0   \n",
       "1  750365       1     0      0.357757              False             1   \n",
       "2  199901       0     0      0.493146               True             1   \n",
       "3  478866       1     0      0.206013               True             1   \n",
       "4  731664       1     0      0.388366               True             1   \n",
       "\n",
       "   MARRIED  CHILDREN  POSTAL_CODE  ANNUAL_MILEAGE  ...  26-39  40-64  65+  \\\n",
       "0    False      True        10238         12000.0  ...      0      0    1   \n",
       "1    False     False        10238         16000.0  ...      0      0    0   \n",
       "2    False     False        10238         11000.0  ...      0      0    0   \n",
       "3    False      True        32765         11000.0  ...      0      0    0   \n",
       "4    False     False        32765         12000.0  ...      1      0    0   \n",
       "\n",
       "   high school  none  university  middle class  poverty  upper class  \\\n",
       "0            1     0           0             0        0            1   \n",
       "1            0     1           0             0        1            0   \n",
       "2            1     0           0             0        0            0   \n",
       "3            0     0           1             0        0            0   \n",
       "4            0     1           0             0        0            0   \n",
       "\n",
       "   working class  \n",
       "0              0  \n",
       "1              0  \n",
       "2              1  \n",
       "3              1  \n",
       "4              1  \n",
       "\n",
       "[5 rows x 30 columns]"
      ]
     },
     "execution_count": 33,
     "metadata": {},
     "output_type": "execute_result"
    }
   ],
   "source": [
    "ci = pd.concat((ci, DE_dummies), axis=1)\n",
    "AGE_dummies = pd.get_dummies(ci['AGE'])\n",
    "AGE_dummies.head()\n",
    "ci = pd.concat((ci, AGE_dummies), axis=1)\n",
    "ci = ci.drop(['AGE'], axis=1)\n",
    "EDUCATION_dummies = pd.get_dummies(ci['EDUCATION'])\n",
    "EDUCATION_dummies.head()\n",
    "ci = pd.concat((ci, EDUCATION_dummies), axis=1)\n",
    "ci = ci.drop(['EDUCATION'], axis=1)\n",
    "INCOME_dummies = pd.get_dummies(ci['INCOME'])\n",
    "INCOME_dummies.head()\n",
    "ci = pd.concat((ci, INCOME_dummies), axis=1)\n",
    "ci = ci.drop(['INCOME'], axis=1)\n",
    "ci.head()"
   ]
  },
  {
   "cell_type": "markdown",
   "metadata": {},
   "source": [
    "Мы видим новую таблицу, которая по сути не имеет категориальных признаков и состоит из 30 столбцов."
   ]
  },
  {
   "cell_type": "markdown",
   "metadata": {},
   "source": [
    "## Нормализация признаков"
   ]
  },
  {
   "cell_type": "markdown",
   "metadata": {},
   "source": [
    "Перед тем, как нормализовать признаки, подумаем, некоторые значение каких признаков могут сбить нашу программу с правильного пути, \"неправильно\" её обучив. Обратим внимание на признаки 'DUIS' и 'POSTAL_CODE':"
   ]
  },
  {
   "cell_type": "code",
   "execution_count": 34,
   "metadata": {},
   "outputs": [
    {
     "data": {
      "image/png": "[encoded data removed]",
      "text/plain": [
       "<Figure size 432x288 with 1 Axes>"
      ]
     },
     "metadata": {
      "needs_background": "light"
     },
     "output_type": "display_data"
    }
   ],
   "source": [
    "sns.countplot(x='DUIS', data=ci)\n",
    "pass"
   ]
  },
  {
   "cell_type": "code",
   "execution_count": 35,
   "metadata": {},
   "outputs": [
    {
     "data": {
      "image/png": "[encoded data removed]",
      "text/plain": [
       "<Figure size 432x288 with 1 Axes>"
      ]
     },
     "metadata": {
      "needs_background": "light"
     },
     "output_type": "display_data"
    }
   ],
   "source": [
    "sns.barplot(x='DUIS', y='OUTCOME', data=ci)\n",
    "pass"
   ]
  },
  {
   "cell_type": "code",
   "execution_count": 36,
   "metadata": {},
   "outputs": [
    {
     "data": {
      "image/png": "[encoded data removed]",
      "text/plain": [
       "<Figure size 432x288 with 1 Axes>"
      ]
     },
     "metadata": {
      "needs_background": "light"
     },
     "output_type": "display_data"
    }
   ],
   "source": [
    "sns.countplot(x='POSTAL_CODE', data=ci)\n",
    "pass"
   ]
  },
  {
   "cell_type": "code",
   "execution_count": 37,
   "metadata": {},
   "outputs": [
    {
     "data": {
      "image/png": "[encoded data removed]",
      "text/plain": [
       "<Figure size 432x288 with 1 Axes>"
      ]
     },
     "metadata": {
      "needs_background": "light"
     },
     "output_type": "display_data"
    }
   ],
   "source": [
    "sns.barplot(x='POSTAL_CODE', y='OUTCOME', data=ci)\n",
    "pass"
   ]
  },
  {
   "cell_type": "markdown",
   "metadata": {},
   "source": [
    "По этим гистограммам можно заметить, что значения признака DUIS больше 2 встречаются на порядок реже, чем остальные, при этом среднее значение целевого признака по ним \"выбиваются\" из статистики, которую составляют популярные значения данного признака. А водители, значение признака POSTAL_CODE которых составляет 21217, вообще запрашивали страховые выплаты в полном своём составе. Понимая, что это просто люди, живущие на каком-то одном районе с данным значением почтового кода, можно сделать вывод, что реальная статистика не может быть стопроцентной. Исходя из этих суждений, примем решение о том, что лучше удалить из таблицы объекты (водителей), значение признака POSTAL_CODE которых составляет 21217, а DUIS - больше 2. (Данные и похожие решения принимаем исходя не только из рассуждений, но и эмпирическим путём, перебирая различные комбинации и изучая, как меняется точность решения задачи при удалении тех или иных признаков и объектов)."
   ]
  },
  {
   "cell_type": "code",
   "execution_count": 38,
   "metadata": {},
   "outputs": [
    {
     "data": {
      "text/plain": [
       "(9799, 30)"
      ]
     },
     "execution_count": 38,
     "metadata": {},
     "output_type": "execute_result"
    }
   ],
   "source": [
    "ci = ci.loc[ci['POSTAL_CODE'] != 21217]\n",
    "ci = ci.loc[ci['DUIS'] <= 2]\n",
    "ci = ci.reset_index(drop=True)\n",
    "ci.shape"
   ]
  },
  {
   "cell_type": "markdown",
   "metadata": {},
   "source": [
    "Теперь осталось не 10000, а 9799 объектов.\n",
    "\n",
    "Проведём стандартизацию количественных (в том числе бинарных) признаков:"
   ]
  },
  {
   "cell_type": "code",
   "execution_count": 39,
   "metadata": {
    "scrolled": false
   },
   "outputs": [
    {
     "data": {
      "text/html": [
       "<div>\n",
       "<style scoped>\n",
       "    .dataframe tbody tr th:only-of-type {\n",
       "        vertical-align: middle;\n",
       "    }\n",
       "\n",
       "    .dataframe tbody tr th {\n",
       "        vertical-align: top;\n",
       "    }\n",
       "\n",
       "    .dataframe thead th {\n",
       "        text-align: right;\n",
       "    }\n",
       "</style>\n",
       "<table border=\"1\" class=\"dataframe\">\n",
       "  <thead>\n",
       "    <tr style=\"text-align: right;\">\n",
       "      <th></th>\n",
       "      <th>ID</th>\n",
       "      <th>GENDER</th>\n",
       "      <th>RACE</th>\n",
       "      <th>CREDIT_SCORE</th>\n",
       "      <th>VEHICLE_OWNERSHIP</th>\n",
       "      <th>VEHICLE_YEAR</th>\n",
       "      <th>MARRIED</th>\n",
       "      <th>CHILDREN</th>\n",
       "      <th>POSTAL_CODE</th>\n",
       "      <th>ANNUAL_MILEAGE</th>\n",
       "      <th>...</th>\n",
       "      <th>26-39</th>\n",
       "      <th>40-64</th>\n",
       "      <th>65+</th>\n",
       "      <th>high school</th>\n",
       "      <th>none</th>\n",
       "      <th>university</th>\n",
       "      <th>middle class</th>\n",
       "      <th>poverty</th>\n",
       "      <th>upper class</th>\n",
       "      <th>working class</th>\n",
       "    </tr>\n",
       "  </thead>\n",
       "  <tbody>\n",
       "    <tr>\n",
       "      <th>0</th>\n",
       "      <td>0.235258</td>\n",
       "      <td>-0.995367</td>\n",
       "      <td>-0.332768</td>\n",
       "      <td>0.869279</td>\n",
       "      <td>0.661515</td>\n",
       "      <td>-1.519579</td>\n",
       "      <td>-0.992932</td>\n",
       "      <td>0.674776</td>\n",
       "      <td>-0.501443</td>\n",
       "      <td>0.110720</td>\n",
       "      <td>...</td>\n",
       "      <td>-0.668697</td>\n",
       "      <td>-0.640699</td>\n",
       "      <td>2.019105</td>\n",
       "      <td>1.182887</td>\n",
       "      <td>-0.487857</td>\n",
       "      <td>-0.801160</td>\n",
       "      <td>-0.520816</td>\n",
       "      <td>-0.474508</td>\n",
       "      <td>1.147590</td>\n",
       "      <td>-0.454537</td>\n",
       "    </tr>\n",
       "    <tr>\n",
       "      <th>1</th>\n",
       "      <td>0.860055</td>\n",
       "      <td>1.004552</td>\n",
       "      <td>-0.332768</td>\n",
       "      <td>-1.202521</td>\n",
       "      <td>-1.511527</td>\n",
       "      <td>0.658010</td>\n",
       "      <td>-0.992932</td>\n",
       "      <td>-1.481822</td>\n",
       "      <td>-0.501443</td>\n",
       "      <td>1.602352</td>\n",
       "      <td>...</td>\n",
       "      <td>-0.668697</td>\n",
       "      <td>-0.640699</td>\n",
       "      <td>-0.495218</td>\n",
       "      <td>-0.845303</td>\n",
       "      <td>2.049570</td>\n",
       "      <td>-0.801160</td>\n",
       "      <td>-0.520816</td>\n",
       "      <td>2.107229</td>\n",
       "      <td>-0.871303</td>\n",
       "      <td>-0.454537</td>\n",
       "    </tr>\n",
       "    <tr>\n",
       "      <th>2</th>\n",
       "      <td>-1.041729</td>\n",
       "      <td>-0.995367</td>\n",
       "      <td>-0.332768</td>\n",
       "      <td>-0.168503</td>\n",
       "      <td>0.661515</td>\n",
       "      <td>0.658010</td>\n",
       "      <td>-0.992932</td>\n",
       "      <td>-1.481822</td>\n",
       "      <td>-0.501443</td>\n",
       "      <td>-0.262188</td>\n",
       "      <td>...</td>\n",
       "      <td>-0.668697</td>\n",
       "      <td>-0.640699</td>\n",
       "      <td>-0.495218</td>\n",
       "      <td>1.182887</td>\n",
       "      <td>-0.487857</td>\n",
       "      <td>-0.801160</td>\n",
       "      <td>-0.520816</td>\n",
       "      <td>-0.474508</td>\n",
       "      <td>-0.871303</td>\n",
       "      <td>2.199817</td>\n",
       "    </tr>\n",
       "    <tr>\n",
       "      <th>3</th>\n",
       "      <td>-0.077940</td>\n",
       "      <td>1.004552</td>\n",
       "      <td>-0.332768</td>\n",
       "      <td>-2.361453</td>\n",
       "      <td>0.661515</td>\n",
       "      <td>0.658010</td>\n",
       "      <td>-0.992932</td>\n",
       "      <td>0.674776</td>\n",
       "      <td>0.680226</td>\n",
       "      <td>-0.262188</td>\n",
       "      <td>...</td>\n",
       "      <td>-0.668697</td>\n",
       "      <td>-0.640699</td>\n",
       "      <td>-0.495218</td>\n",
       "      <td>-0.845303</td>\n",
       "      <td>-0.487857</td>\n",
       "      <td>1.248062</td>\n",
       "      <td>-0.520816</td>\n",
       "      <td>-0.474508</td>\n",
       "      <td>-0.871303</td>\n",
       "      <td>2.199817</td>\n",
       "    </tr>\n",
       "    <tr>\n",
       "      <th>4</th>\n",
       "      <td>0.795446</td>\n",
       "      <td>1.004552</td>\n",
       "      <td>-0.332768</td>\n",
       "      <td>-0.968749</td>\n",
       "      <td>0.661515</td>\n",
       "      <td>0.658010</td>\n",
       "      <td>-0.992932</td>\n",
       "      <td>-1.481822</td>\n",
       "      <td>0.680226</td>\n",
       "      <td>0.110720</td>\n",
       "      <td>...</td>\n",
       "      <td>1.495293</td>\n",
       "      <td>-0.640699</td>\n",
       "      <td>-0.495218</td>\n",
       "      <td>-0.845303</td>\n",
       "      <td>2.049570</td>\n",
       "      <td>-0.801160</td>\n",
       "      <td>-0.520816</td>\n",
       "      <td>-0.474508</td>\n",
       "      <td>-0.871303</td>\n",
       "      <td>2.199817</td>\n",
       "    </tr>\n",
       "    <tr>\n",
       "      <th>...</th>\n",
       "      <td>...</td>\n",
       "      <td>...</td>\n",
       "      <td>...</td>\n",
       "      <td>...</td>\n",
       "      <td>...</td>\n",
       "      <td>...</td>\n",
       "      <td>...</td>\n",
       "      <td>...</td>\n",
       "      <td>...</td>\n",
       "      <td>...</td>\n",
       "      <td>...</td>\n",
       "      <td>...</td>\n",
       "      <td>...</td>\n",
       "      <td>...</td>\n",
       "      <td>...</td>\n",
       "      <td>...</td>\n",
       "      <td>...</td>\n",
       "      <td>...</td>\n",
       "      <td>...</td>\n",
       "      <td>...</td>\n",
       "      <td>...</td>\n",
       "    </tr>\n",
       "    <tr>\n",
       "      <th>9794</th>\n",
       "      <td>-0.615871</td>\n",
       "      <td>-0.995367</td>\n",
       "      <td>-0.332768</td>\n",
       "      <td>0.516124</td>\n",
       "      <td>0.661515</td>\n",
       "      <td>0.658010</td>\n",
       "      <td>-0.992932</td>\n",
       "      <td>-1.481822</td>\n",
       "      <td>-0.501443</td>\n",
       "      <td>1.602352</td>\n",
       "      <td>...</td>\n",
       "      <td>1.495293</td>\n",
       "      <td>-0.640699</td>\n",
       "      <td>-0.495218</td>\n",
       "      <td>-0.845303</td>\n",
       "      <td>-0.487857</td>\n",
       "      <td>1.248062</td>\n",
       "      <td>-0.520816</td>\n",
       "      <td>-0.474508</td>\n",
       "      <td>1.147590</td>\n",
       "      <td>-0.454537</td>\n",
       "    </tr>\n",
       "    <tr>\n",
       "      <th>9795</th>\n",
       "      <td>1.412769</td>\n",
       "      <td>-0.995367</td>\n",
       "      <td>-0.332768</td>\n",
       "      <td>0.053636</td>\n",
       "      <td>0.661515</td>\n",
       "      <td>-1.519579</td>\n",
       "      <td>-0.992932</td>\n",
       "      <td>0.674776</td>\n",
       "      <td>0.680226</td>\n",
       "      <td>-0.002270</td>\n",
       "      <td>...</td>\n",
       "      <td>1.495293</td>\n",
       "      <td>-0.640699</td>\n",
       "      <td>-0.495218</td>\n",
       "      <td>-0.845303</td>\n",
       "      <td>2.049570</td>\n",
       "      <td>-0.801160</td>\n",
       "      <td>1.919869</td>\n",
       "      <td>-0.474508</td>\n",
       "      <td>-0.871303</td>\n",
       "      <td>-0.454537</td>\n",
       "    </tr>\n",
       "    <tr>\n",
       "      <th>9796</th>\n",
       "      <td>-0.114067</td>\n",
       "      <td>1.004552</td>\n",
       "      <td>-0.332768</td>\n",
       "      <td>-0.338095</td>\n",
       "      <td>0.661515</td>\n",
       "      <td>0.658010</td>\n",
       "      <td>-0.992932</td>\n",
       "      <td>0.674776</td>\n",
       "      <td>-0.501443</td>\n",
       "      <td>0.856536</td>\n",
       "      <td>...</td>\n",
       "      <td>1.495293</td>\n",
       "      <td>-0.640699</td>\n",
       "      <td>-0.495218</td>\n",
       "      <td>1.182887</td>\n",
       "      <td>-0.487857</td>\n",
       "      <td>-0.801160</td>\n",
       "      <td>1.919869</td>\n",
       "      <td>-0.474508</td>\n",
       "      <td>-0.871303</td>\n",
       "      <td>-0.454537</td>\n",
       "    </tr>\n",
       "    <tr>\n",
       "      <th>9797</th>\n",
       "      <td>1.388976</td>\n",
       "      <td>-0.995367</td>\n",
       "      <td>-0.332768</td>\n",
       "      <td>-1.153430</td>\n",
       "      <td>-1.511527</td>\n",
       "      <td>0.658010</td>\n",
       "      <td>-0.992932</td>\n",
       "      <td>0.674776</td>\n",
       "      <td>-0.501443</td>\n",
       "      <td>0.483628</td>\n",
       "      <td>...</td>\n",
       "      <td>1.495293</td>\n",
       "      <td>-0.640699</td>\n",
       "      <td>-0.495218</td>\n",
       "      <td>1.182887</td>\n",
       "      <td>-0.487857</td>\n",
       "      <td>-0.801160</td>\n",
       "      <td>-0.520816</td>\n",
       "      <td>2.107229</td>\n",
       "      <td>-0.871303</td>\n",
       "      <td>-0.454537</td>\n",
       "    </tr>\n",
       "    <tr>\n",
       "      <th>9798</th>\n",
       "      <td>-0.202903</td>\n",
       "      <td>-0.995367</td>\n",
       "      <td>-0.332768</td>\n",
       "      <td>-0.610869</td>\n",
       "      <td>0.661515</td>\n",
       "      <td>0.658010</td>\n",
       "      <td>1.007015</td>\n",
       "      <td>0.674776</td>\n",
       "      <td>-0.501443</td>\n",
       "      <td>0.483628</td>\n",
       "      <td>...</td>\n",
       "      <td>1.495293</td>\n",
       "      <td>-0.640699</td>\n",
       "      <td>-0.495218</td>\n",
       "      <td>-0.845303</td>\n",
       "      <td>2.049570</td>\n",
       "      <td>-0.801160</td>\n",
       "      <td>-0.520816</td>\n",
       "      <td>-0.474508</td>\n",
       "      <td>-0.871303</td>\n",
       "      <td>2.199817</td>\n",
       "    </tr>\n",
       "  </tbody>\n",
       "</table>\n",
       "<p>9799 rows × 30 columns</p>\n",
       "</div>"
      ],
      "text/plain": [
       "            ID    GENDER      RACE  CREDIT_SCORE  VEHICLE_OWNERSHIP  \\\n",
       "0     0.235258 -0.995367 -0.332768      0.869279           0.661515   \n",
       "1     0.860055  1.004552 -0.332768     -1.202521          -1.511527   \n",
       "2    -1.041729 -0.995367 -0.332768     -0.168503           0.661515   \n",
       "3    -0.077940  1.004552 -0.332768     -2.361453           0.661515   \n",
       "4     0.795446  1.004552 -0.332768     -0.968749           0.661515   \n",
       "...        ...       ...       ...           ...                ...   \n",
       "9794 -0.615871 -0.995367 -0.332768      0.516124           0.661515   \n",
       "9795  1.412769 -0.995367 -0.332768      0.053636           0.661515   \n",
       "9796 -0.114067  1.004552 -0.332768     -0.338095           0.661515   \n",
       "9797  1.388976 -0.995367 -0.332768     -1.153430          -1.511527   \n",
       "9798 -0.202903 -0.995367 -0.332768     -0.610869           0.661515   \n",
       "\n",
       "      VEHICLE_YEAR   MARRIED  CHILDREN  POSTAL_CODE  ANNUAL_MILEAGE  ...  \\\n",
       "0        -1.519579 -0.992932  0.674776    -0.501443        0.110720  ...   \n",
       "1         0.658010 -0.992932 -1.481822    -0.501443        1.602352  ...   \n",
       "2         0.658010 -0.992932 -1.481822    -0.501443       -0.262188  ...   \n",
       "3         0.658010 -0.992932  0.674776     0.680226       -0.262188  ...   \n",
       "4         0.658010 -0.992932 -1.481822     0.680226        0.110720  ...   \n",
       "...            ...       ...       ...          ...             ...  ...   \n",
       "9794      0.658010 -0.992932 -1.481822    -0.501443        1.602352  ...   \n",
       "9795     -1.519579 -0.992932  0.674776     0.680226       -0.002270  ...   \n",
       "9796      0.658010 -0.992932  0.674776    -0.501443        0.856536  ...   \n",
       "9797      0.658010 -0.992932  0.674776    -0.501443        0.483628  ...   \n",
       "9798      0.658010  1.007015  0.674776    -0.501443        0.483628  ...   \n",
       "\n",
       "         26-39     40-64       65+  high school      none  university  \\\n",
       "0    -0.668697 -0.640699  2.019105     1.182887 -0.487857   -0.801160   \n",
       "1    -0.668697 -0.640699 -0.495218    -0.845303  2.049570   -0.801160   \n",
       "2    -0.668697 -0.640699 -0.495218     1.182887 -0.487857   -0.801160   \n",
       "3    -0.668697 -0.640699 -0.495218    -0.845303 -0.487857    1.248062   \n",
       "4     1.495293 -0.640699 -0.495218    -0.845303  2.049570   -0.801160   \n",
       "...        ...       ...       ...          ...       ...         ...   \n",
       "9794  1.495293 -0.640699 -0.495218    -0.845303 -0.487857    1.248062   \n",
       "9795  1.495293 -0.640699 -0.495218    -0.845303  2.049570   -0.801160   \n",
       "9796  1.495293 -0.640699 -0.495218     1.182887 -0.487857   -0.801160   \n",
       "9797  1.495293 -0.640699 -0.495218     1.182887 -0.487857   -0.801160   \n",
       "9798  1.495293 -0.640699 -0.495218    -0.845303  2.049570   -0.801160   \n",
       "\n",
       "      middle class   poverty  upper class  working class  \n",
       "0        -0.520816 -0.474508     1.147590      -0.454537  \n",
       "1        -0.520816  2.107229    -0.871303      -0.454537  \n",
       "2        -0.520816 -0.474508    -0.871303       2.199817  \n",
       "3        -0.520816 -0.474508    -0.871303       2.199817  \n",
       "4        -0.520816 -0.474508    -0.871303       2.199817  \n",
       "...            ...       ...          ...            ...  \n",
       "9794     -0.520816 -0.474508     1.147590      -0.454537  \n",
       "9795      1.919869 -0.474508    -0.871303      -0.454537  \n",
       "9796      1.919869 -0.474508    -0.871303      -0.454537  \n",
       "9797     -0.520816  2.107229    -0.871303      -0.454537  \n",
       "9798     -0.520816 -0.474508    -0.871303       2.199817  \n",
       "\n",
       "[9799 rows x 30 columns]"
      ]
     },
     "execution_count": 39,
     "metadata": {},
     "output_type": "execute_result"
    }
   ],
   "source": [
    "ci_stand = (ci - ci.mean(axis = 0))/ci.std(axis = 0)\n",
    "ci_stand"
   ]
  },
  {
   "cell_type": "markdown",
   "metadata": {},
   "source": [
    "## Разбиение данных на обучающую и тестовую выборки\n",
    "Разобьём данные на обучающую и тестовую выборки в пропорции 3:1 (75% - обучающая выборка, 25% - тестовая). Обратим внимание, что признаки 'ID' и 'RACE' не влияют на значение целевого признака, поэтому их для предсказания признака OUTCOME мы использовать не будем."
   ]
  },
  {
   "cell_type": "code",
   "execution_count": 40,
   "metadata": {
    "scrolled": false
   },
   "outputs": [
    {
     "data": {
      "text/plain": [
       "(7349, 2450)"
      ]
     },
     "execution_count": 40,
     "metadata": {},
     "output_type": "execute_result"
    }
   ],
   "source": [
    "X = ci_stand.drop(['ID','OUTCOME', 'RACE'], axis=1)\n",
    "y = ci['OUTCOME']\n",
    "\n",
    "from sklearn.model_selection import train_test_split\n",
    "X_train, X_test, y_train, y_test = train_test_split(X, y, test_size = 0.25, random_state = 42)\n",
    "\n",
    "N_train, _ = X_train.shape \n",
    "N_test,  _ = X_test.shape \n",
    "\n",
    "N_train, N_test"
   ]
  },
  {
   "cell_type": "markdown",
   "metadata": {},
   "source": [
    "## Запуск классификатора ближайших соседей\n",
    "\n",
    "Попробовав различные параметры для классификатора, обратим внимание, с какими из них задача решается с большей точностью, и остановимся на n_neighbors=5 и p=1:"
   ]
  },
  {
   "cell_type": "code",
   "execution_count": 41,
   "metadata": {},
   "outputs": [
    {
     "data": {
      "text/plain": [
       "KNeighborsClassifier(p=1)"
      ]
     },
     "execution_count": 41,
     "metadata": {},
     "output_type": "execute_result"
    }
   ],
   "source": [
    "from sklearn.neighbors import KNeighborsClassifier\n",
    "model = KNeighborsClassifier(n_neighbors=5, p=1)\n",
    "model.fit(X_train, y_train)"
   ]
  },
  {
   "cell_type": "markdown",
   "metadata": {},
   "source": [
    "## Вычисление ошибок на обучающей и тестовой выборках"
   ]
  },
  {
   "cell_type": "code",
   "execution_count": 42,
   "metadata": {},
   "outputs": [
    {
     "data": {
      "text/plain": [
       "(0.1285889236630834, 0.16979591836734698)"
      ]
     },
     "execution_count": 42,
     "metadata": {},
     "output_type": "execute_result"
    }
   ],
   "source": [
    "1 - model.score(X_train, y_train), 1 - model.score(X_test, y_test)"
   ]
  },
  {
   "cell_type": "markdown",
   "metadata": {},
   "source": [
    "Ошибка на обучающей выборке составила 13%, на тестовой - 17%. Изменяя параметры, мы можем улучшить лишь один из показателей, но в целом для данной задачи данные значения параметров окзались оптимальными. Оценим результаты решения задачи в общих выводах."
   ]
  },
  {
   "cell_type": "markdown",
   "metadata": {},
   "source": [
    "## Общие выводы\n",
    "\n",
    "Итак, путём анализа данных и эмпирическим путём мы постарались решить данную задачу с минимальными процентами ошибок. Мы пробовали отбрасывать небольшую часть объектов по тем или иным значениям некоторых из признаков, по-разному изменять пропущенные значения, отбрасывать различные признаки при обучении программы, подбирать различные параметры классификатора и т.д. При рассмотрении каждого из этих вопросов мы шли тем путём, который позволял сделать процент ошибок наименьшим (в первую очередь - на тестовой выборке). Получились довольно высокие проценты ошибок - попробуем объяснить такой результат. Данная задача состоит в том, чтобы классифицировать объект (водителя) к одному из двух классов. Если сравнить, например, с задачей идентификации рукописной цифры, где человек почти всегда может правильно это сделать, здесь всё не так просто. Даже опытный работник сферы страхования не в силах предсказать наверняка, попадёт данный водитель в ДТП или нет. Тем более, что в данном происшествии может быть виноват не только он, но и другие участники ПДД, а ведь это также страховой случай, который приводит значение целевой функции в 1. Не всё всегда зависит от самого водителя. То есть можно сказать, что доля случайности достаточно велика в вероятности данного события. Именно этим обосновываются такие высокие проценты ошибок, которые, на мой взгляд, для данной задачи не такие и высокие, а вполне приемлемые.\n",
    "\n",
    "Работу выполнил студент гр. 381803-2 Заятников А.А."
   ]
  },
  {
   "cell_type": "markdown",
   "metadata": {},
   "source": [
    "## Обучение нейронной сети"
   ]
  },
  {
   "cell_type": "markdown",
   "metadata": {},
   "source": [
    "Обучаем классификатор (пример)"
   ]
  },
  {
   "cell_type": "code",
   "execution_count": 56,
   "metadata": {},
   "outputs": [],
   "source": [
    "from sklearn.neural_network import MLPClassifier\n",
    "mlp_model = MLPClassifier(hidden_layer_sizes = (2, 2),\n",
    "                          solver = 'lbfgs', \n",
    "                          activation = 'logistic',\n",
    "                          random_state = 42)"
   ]
  },
  {
   "cell_type": "markdown",
   "metadata": {},
   "source": [
    "## Подбор параметров (2 скрытых слоя)"
   ]
  },
  {
   "cell_type": "code",
   "execution_count": 51,
   "metadata": {
    "scrolled": true
   },
   "outputs": [
    {
     "name": "stderr",
     "output_type": "stream",
     "text": [
      "c:\\users\\zayat\\pycharmprojects\\pythonproject\\venv\\lib\\site-packages\\sklearn\\neural_network\\_multilayer_perceptron.py:549: ConvergenceWarning: lbfgs failed to converge (status=1):\n",
      "STOP: TOTAL NO. of ITERATIONS REACHED LIMIT.\n",
      "\n",
      "Increase the number of iterations (max_iter) or scale the data as shown in:\n",
      "    https://scikit-learn.org/stable/modules/preprocessing.html\n",
      "  self.n_iter_ = _check_optimize_result(\"lbfgs\", opt_res, self.max_iter)\n",
      "c:\\users\\zayat\\pycharmprojects\\pythonproject\\venv\\lib\\site-packages\\sklearn\\neural_network\\_multilayer_perceptron.py:549: ConvergenceWarning: lbfgs failed to converge (status=1):\n",
      "STOP: TOTAL NO. of ITERATIONS REACHED LIMIT.\n",
      "\n",
      "Increase the number of iterations (max_iter) or scale the data as shown in:\n",
      "    https://scikit-learn.org/stable/modules/preprocessing.html\n",
      "  self.n_iter_ = _check_optimize_result(\"lbfgs\", opt_res, self.max_iter)\n",
      "c:\\users\\zayat\\pycharmprojects\\pythonproject\\venv\\lib\\site-packages\\sklearn\\neural_network\\_multilayer_perceptron.py:549: ConvergenceWarning: lbfgs failed to converge (status=1):\n",
      "STOP: TOTAL NO. of ITERATIONS REACHED LIMIT.\n",
      "\n",
      "Increase the number of iterations (max_iter) or scale the data as shown in:\n",
      "    https://scikit-learn.org/stable/modules/preprocessing.html\n",
      "  self.n_iter_ = _check_optimize_result(\"lbfgs\", opt_res, self.max_iter)\n",
      "c:\\users\\zayat\\pycharmprojects\\pythonproject\\venv\\lib\\site-packages\\sklearn\\neural_network\\_multilayer_perceptron.py:549: ConvergenceWarning: lbfgs failed to converge (status=1):\n",
      "STOP: TOTAL NO. of ITERATIONS REACHED LIMIT.\n",
      "\n",
      "Increase the number of iterations (max_iter) or scale the data as shown in:\n",
      "    https://scikit-learn.org/stable/modules/preprocessing.html\n",
      "  self.n_iter_ = _check_optimize_result(\"lbfgs\", opt_res, self.max_iter)\n",
      "c:\\users\\zayat\\pycharmprojects\\pythonproject\\venv\\lib\\site-packages\\sklearn\\neural_network\\_multilayer_perceptron.py:549: ConvergenceWarning: lbfgs failed to converge (status=1):\n",
      "STOP: TOTAL NO. of ITERATIONS REACHED LIMIT.\n",
      "\n",
      "Increase the number of iterations (max_iter) or scale the data as shown in:\n",
      "    https://scikit-learn.org/stable/modules/preprocessing.html\n",
      "  self.n_iter_ = _check_optimize_result(\"lbfgs\", opt_res, self.max_iter)\n",
      "c:\\users\\zayat\\pycharmprojects\\pythonproject\\venv\\lib\\site-packages\\sklearn\\neural_network\\_multilayer_perceptron.py:549: ConvergenceWarning: lbfgs failed to converge (status=1):\n",
      "STOP: TOTAL NO. of ITERATIONS REACHED LIMIT.\n",
      "\n",
      "Increase the number of iterations (max_iter) or scale the data as shown in:\n",
      "    https://scikit-learn.org/stable/modules/preprocessing.html\n",
      "  self.n_iter_ = _check_optimize_result(\"lbfgs\", opt_res, self.max_iter)\n",
      "c:\\users\\zayat\\pycharmprojects\\pythonproject\\venv\\lib\\site-packages\\sklearn\\neural_network\\_multilayer_perceptron.py:549: ConvergenceWarning: lbfgs failed to converge (status=1):\n",
      "STOP: TOTAL NO. of ITERATIONS REACHED LIMIT.\n",
      "\n",
      "Increase the number of iterations (max_iter) or scale the data as shown in:\n",
      "    https://scikit-learn.org/stable/modules/preprocessing.html\n",
      "  self.n_iter_ = _check_optimize_result(\"lbfgs\", opt_res, self.max_iter)\n",
      "c:\\users\\zayat\\pycharmprojects\\pythonproject\\venv\\lib\\site-packages\\sklearn\\neural_network\\_multilayer_perceptron.py:549: ConvergenceWarning: lbfgs failed to converge (status=1):\n",
      "STOP: TOTAL NO. of ITERATIONS REACHED LIMIT.\n",
      "\n",
      "Increase the number of iterations (max_iter) or scale the data as shown in:\n",
      "    https://scikit-learn.org/stable/modules/preprocessing.html\n",
      "  self.n_iter_ = _check_optimize_result(\"lbfgs\", opt_res, self.max_iter)\n",
      "c:\\users\\zayat\\pycharmprojects\\pythonproject\\venv\\lib\\site-packages\\sklearn\\neural_network\\_multilayer_perceptron.py:549: ConvergenceWarning: lbfgs failed to converge (status=1):\n",
      "STOP: TOTAL NO. of ITERATIONS REACHED LIMIT.\n",
      "\n",
      "Increase the number of iterations (max_iter) or scale the data as shown in:\n",
      "    https://scikit-learn.org/stable/modules/preprocessing.html\n",
      "  self.n_iter_ = _check_optimize_result(\"lbfgs\", opt_res, self.max_iter)\n",
      "c:\\users\\zayat\\pycharmprojects\\pythonproject\\venv\\lib\\site-packages\\sklearn\\neural_network\\_multilayer_perceptron.py:549: ConvergenceWarning: lbfgs failed to converge (status=1):\n",
      "STOP: TOTAL NO. of ITERATIONS REACHED LIMIT.\n",
      "\n",
      "Increase the number of iterations (max_iter) or scale the data as shown in:\n",
      "    https://scikit-learn.org/stable/modules/preprocessing.html\n",
      "  self.n_iter_ = _check_optimize_result(\"lbfgs\", opt_res, self.max_iter)\n",
      "c:\\users\\zayat\\pycharmprojects\\pythonproject\\venv\\lib\\site-packages\\sklearn\\neural_network\\_multilayer_perceptron.py:549: ConvergenceWarning: lbfgs failed to converge (status=1):\n",
      "STOP: TOTAL NO. of ITERATIONS REACHED LIMIT.\n",
      "\n",
      "Increase the number of iterations (max_iter) or scale the data as shown in:\n",
      "    https://scikit-learn.org/stable/modules/preprocessing.html\n",
      "  self.n_iter_ = _check_optimize_result(\"lbfgs\", opt_res, self.max_iter)\n",
      "c:\\users\\zayat\\pycharmprojects\\pythonproject\\venv\\lib\\site-packages\\sklearn\\neural_network\\_multilayer_perceptron.py:549: ConvergenceWarning: lbfgs failed to converge (status=1):\n",
      "STOP: TOTAL NO. of ITERATIONS REACHED LIMIT.\n",
      "\n",
      "Increase the number of iterations (max_iter) or scale the data as shown in:\n",
      "    https://scikit-learn.org/stable/modules/preprocessing.html\n",
      "  self.n_iter_ = _check_optimize_result(\"lbfgs\", opt_res, self.max_iter)\n",
      "c:\\users\\zayat\\pycharmprojects\\pythonproject\\venv\\lib\\site-packages\\sklearn\\neural_network\\_multilayer_perceptron.py:549: ConvergenceWarning: lbfgs failed to converge (status=1):\n",
      "STOP: TOTAL NO. of ITERATIONS REACHED LIMIT.\n",
      "\n",
      "Increase the number of iterations (max_iter) or scale the data as shown in:\n",
      "    https://scikit-learn.org/stable/modules/preprocessing.html\n",
      "  self.n_iter_ = _check_optimize_result(\"lbfgs\", opt_res, self.max_iter)\n",
      "c:\\users\\zayat\\pycharmprojects\\pythonproject\\venv\\lib\\site-packages\\sklearn\\neural_network\\_multilayer_perceptron.py:549: ConvergenceWarning: lbfgs failed to converge (status=1):\n",
      "STOP: TOTAL NO. of ITERATIONS REACHED LIMIT.\n",
      "\n",
      "Increase the number of iterations (max_iter) or scale the data as shown in:\n",
      "    https://scikit-learn.org/stable/modules/preprocessing.html\n",
      "  self.n_iter_ = _check_optimize_result(\"lbfgs\", opt_res, self.max_iter)\n",
      "c:\\users\\zayat\\pycharmprojects\\pythonproject\\venv\\lib\\site-packages\\sklearn\\neural_network\\_multilayer_perceptron.py:549: ConvergenceWarning: lbfgs failed to converge (status=1):\n",
      "STOP: TOTAL NO. of ITERATIONS REACHED LIMIT.\n",
      "\n",
      "Increase the number of iterations (max_iter) or scale the data as shown in:\n",
      "    https://scikit-learn.org/stable/modules/preprocessing.html\n",
      "  self.n_iter_ = _check_optimize_result(\"lbfgs\", opt_res, self.max_iter)\n",
      "c:\\users\\zayat\\pycharmprojects\\pythonproject\\venv\\lib\\site-packages\\sklearn\\neural_network\\_multilayer_perceptron.py:549: ConvergenceWarning: lbfgs failed to converge (status=1):\n",
      "STOP: TOTAL NO. of ITERATIONS REACHED LIMIT.\n",
      "\n",
      "Increase the number of iterations (max_iter) or scale the data as shown in:\n",
      "    https://scikit-learn.org/stable/modules/preprocessing.html\n",
      "  self.n_iter_ = _check_optimize_result(\"lbfgs\", opt_res, self.max_iter)\n",
      "c:\\users\\zayat\\pycharmprojects\\pythonproject\\venv\\lib\\site-packages\\sklearn\\neural_network\\_multilayer_perceptron.py:549: ConvergenceWarning: lbfgs failed to converge (status=1):\n",
      "STOP: TOTAL NO. of ITERATIONS REACHED LIMIT.\n",
      "\n",
      "Increase the number of iterations (max_iter) or scale the data as shown in:\n",
      "    https://scikit-learn.org/stable/modules/preprocessing.html\n",
      "  self.n_iter_ = _check_optimize_result(\"lbfgs\", opt_res, self.max_iter)\n",
      "c:\\users\\zayat\\pycharmprojects\\pythonproject\\venv\\lib\\site-packages\\sklearn\\neural_network\\_multilayer_perceptron.py:549: ConvergenceWarning: lbfgs failed to converge (status=1):\n",
      "STOP: TOTAL NO. of ITERATIONS REACHED LIMIT.\n",
      "\n",
      "Increase the number of iterations (max_iter) or scale the data as shown in:\n",
      "    https://scikit-learn.org/stable/modules/preprocessing.html\n",
      "  self.n_iter_ = _check_optimize_result(\"lbfgs\", opt_res, self.max_iter)\n",
      "c:\\users\\zayat\\pycharmprojects\\pythonproject\\venv\\lib\\site-packages\\sklearn\\neural_network\\_multilayer_perceptron.py:549: ConvergenceWarning: lbfgs failed to converge (status=1):\n",
      "STOP: TOTAL NO. of ITERATIONS REACHED LIMIT.\n",
      "\n",
      "Increase the number of iterations (max_iter) or scale the data as shown in:\n",
      "    https://scikit-learn.org/stable/modules/preprocessing.html\n",
      "  self.n_iter_ = _check_optimize_result(\"lbfgs\", opt_res, self.max_iter)\n"
     ]
    },
    {
     "name": "stderr",
     "output_type": "stream",
     "text": [
      "c:\\users\\zayat\\pycharmprojects\\pythonproject\\venv\\lib\\site-packages\\sklearn\\neural_network\\_multilayer_perceptron.py:549: ConvergenceWarning: lbfgs failed to converge (status=1):\n",
      "STOP: TOTAL NO. of ITERATIONS REACHED LIMIT.\n",
      "\n",
      "Increase the number of iterations (max_iter) or scale the data as shown in:\n",
      "    https://scikit-learn.org/stable/modules/preprocessing.html\n",
      "  self.n_iter_ = _check_optimize_result(\"lbfgs\", opt_res, self.max_iter)\n",
      "c:\\users\\zayat\\pycharmprojects\\pythonproject\\venv\\lib\\site-packages\\sklearn\\neural_network\\_multilayer_perceptron.py:549: ConvergenceWarning: lbfgs failed to converge (status=1):\n",
      "STOP: TOTAL NO. of ITERATIONS REACHED LIMIT.\n",
      "\n",
      "Increase the number of iterations (max_iter) or scale the data as shown in:\n",
      "    https://scikit-learn.org/stable/modules/preprocessing.html\n",
      "  self.n_iter_ = _check_optimize_result(\"lbfgs\", opt_res, self.max_iter)\n",
      "c:\\users\\zayat\\pycharmprojects\\pythonproject\\venv\\lib\\site-packages\\sklearn\\neural_network\\_multilayer_perceptron.py:549: ConvergenceWarning: lbfgs failed to converge (status=1):\n",
      "STOP: TOTAL NO. of ITERATIONS REACHED LIMIT.\n",
      "\n",
      "Increase the number of iterations (max_iter) or scale the data as shown in:\n",
      "    https://scikit-learn.org/stable/modules/preprocessing.html\n",
      "  self.n_iter_ = _check_optimize_result(\"lbfgs\", opt_res, self.max_iter)\n",
      "c:\\users\\zayat\\pycharmprojects\\pythonproject\\venv\\lib\\site-packages\\sklearn\\neural_network\\_multilayer_perceptron.py:549: ConvergenceWarning: lbfgs failed to converge (status=1):\n",
      "STOP: TOTAL NO. of ITERATIONS REACHED LIMIT.\n",
      "\n",
      "Increase the number of iterations (max_iter) or scale the data as shown in:\n",
      "    https://scikit-learn.org/stable/modules/preprocessing.html\n",
      "  self.n_iter_ = _check_optimize_result(\"lbfgs\", opt_res, self.max_iter)\n",
      "c:\\users\\zayat\\pycharmprojects\\pythonproject\\venv\\lib\\site-packages\\sklearn\\neural_network\\_multilayer_perceptron.py:549: ConvergenceWarning: lbfgs failed to converge (status=1):\n",
      "STOP: TOTAL NO. of ITERATIONS REACHED LIMIT.\n",
      "\n",
      "Increase the number of iterations (max_iter) or scale the data as shown in:\n",
      "    https://scikit-learn.org/stable/modules/preprocessing.html\n",
      "  self.n_iter_ = _check_optimize_result(\"lbfgs\", opt_res, self.max_iter)\n",
      "c:\\users\\zayat\\pycharmprojects\\pythonproject\\venv\\lib\\site-packages\\sklearn\\neural_network\\_multilayer_perceptron.py:549: ConvergenceWarning: lbfgs failed to converge (status=1):\n",
      "STOP: TOTAL NO. of ITERATIONS REACHED LIMIT.\n",
      "\n",
      "Increase the number of iterations (max_iter) or scale the data as shown in:\n",
      "    https://scikit-learn.org/stable/modules/preprocessing.html\n",
      "  self.n_iter_ = _check_optimize_result(\"lbfgs\", opt_res, self.max_iter)\n",
      "c:\\users\\zayat\\pycharmprojects\\pythonproject\\venv\\lib\\site-packages\\sklearn\\neural_network\\_multilayer_perceptron.py:549: ConvergenceWarning: lbfgs failed to converge (status=1):\n",
      "STOP: TOTAL NO. of ITERATIONS REACHED LIMIT.\n",
      "\n",
      "Increase the number of iterations (max_iter) or scale the data as shown in:\n",
      "    https://scikit-learn.org/stable/modules/preprocessing.html\n",
      "  self.n_iter_ = _check_optimize_result(\"lbfgs\", opt_res, self.max_iter)\n",
      "c:\\users\\zayat\\pycharmprojects\\pythonproject\\venv\\lib\\site-packages\\sklearn\\neural_network\\_multilayer_perceptron.py:549: ConvergenceWarning: lbfgs failed to converge (status=1):\n",
      "STOP: TOTAL NO. of ITERATIONS REACHED LIMIT.\n",
      "\n",
      "Increase the number of iterations (max_iter) or scale the data as shown in:\n",
      "    https://scikit-learn.org/stable/modules/preprocessing.html\n",
      "  self.n_iter_ = _check_optimize_result(\"lbfgs\", opt_res, self.max_iter)\n",
      "c:\\users\\zayat\\pycharmprojects\\pythonproject\\venv\\lib\\site-packages\\sklearn\\neural_network\\_multilayer_perceptron.py:549: ConvergenceWarning: lbfgs failed to converge (status=1):\n",
      "STOP: TOTAL NO. of ITERATIONS REACHED LIMIT.\n",
      "\n",
      "Increase the number of iterations (max_iter) or scale the data as shown in:\n",
      "    https://scikit-learn.org/stable/modules/preprocessing.html\n",
      "  self.n_iter_ = _check_optimize_result(\"lbfgs\", opt_res, self.max_iter)\n"
     ]
    },
    {
     "data": {
      "text/plain": [
       "(      0.001     0.010     0.100     1.000     10.000    100.000\n",
       " 1    0.160158  0.150769  0.150088  0.150361  0.149816  0.311879\n",
       " 5    0.145870  0.148728  0.144237  0.144782  0.148047  0.311879\n",
       " 10   0.137434  0.133079  0.137706  0.134440  0.147095  0.169683\n",
       " 50   0.132671  0.129133  0.123554  0.135937  0.148864  0.170772\n",
       " 100  0.139067  0.140427  0.140427  0.143149  0.148592  0.170908\n",
       " 500  0.149272  0.149952  0.150497  0.151449  0.149816  0.171180,\n",
       "       0.001     0.010     0.100     1.000     10.000    100.000\n",
       " 1    0.154694  0.142041  0.144082  0.143265  0.141224  0.290612\n",
       " 5    0.143265  0.144898  0.147755  0.147347  0.138776  0.290612\n",
       " 10   0.155918  0.157143  0.157551  0.146939  0.142041  0.157143\n",
       " 50   0.165306  0.163265  0.168980  0.150612  0.141633  0.157551\n",
       " 100  0.157551  0.160408  0.160408  0.144898  0.141633  0.156735\n",
       " 500  0.147347  0.144082  0.142449  0.144490  0.144490  0.157551,\n",
       "       0.001     0.010     0.100     1.000     10.000    100.000\n",
       " 1    0.839842  0.849231  0.849912  0.849639  0.850184  0.688121\n",
       " 5    0.854130  0.851272  0.855763  0.855218  0.851953  0.688121\n",
       " 10   0.862566  0.866921  0.862294  0.865560  0.852905  0.830317\n",
       " 50   0.867329  0.870867  0.876446  0.864063  0.851136  0.829228\n",
       " 100  0.860933  0.859573  0.859573  0.856851  0.851408  0.829092\n",
       " 500  0.850728  0.850048  0.849503  0.848551  0.850184  0.828820,\n",
       "       0.001     0.010     0.100     1.000     10.000    100.000\n",
       " 1    0.845306  0.857959  0.855918  0.856735  0.858776  0.709388\n",
       " 5    0.856735  0.855102  0.852245  0.852653  0.861224  0.709388\n",
       " 10   0.844082  0.842857  0.842449  0.853061  0.857959  0.842857\n",
       " 50   0.834694  0.836735  0.831020  0.849388  0.858367  0.842449\n",
       " 100  0.842449  0.839592  0.839592  0.855102  0.858367  0.843265\n",
       " 500  0.852653  0.855918  0.857551  0.855510  0.855510  0.842449)"
      ]
     },
     "execution_count": 51,
     "metadata": {},
     "output_type": "execute_result"
    }
   ],
   "source": [
    "from sklearn.metrics import accuracy_score\n",
    "alpha_arr = [0.001, 0.01, 0.1, 1, 10, 100]\n",
    "N_arr = [1, 5, 10, 50, 100, 500]\n",
    "train_err = dict()\n",
    "test_err = dict()\n",
    "train_acc = dict()\n",
    "test_acc = dict()\n",
    "for i in alpha_arr:\n",
    "    train_err[i] = dict()\n",
    "    test_err[i] = dict()\n",
    "    train_acc[i] = dict()\n",
    "    test_acc[i] = dict()\n",
    "    for j in N_arr:\n",
    "        mlp_model = MLPClassifier(max_iter = 100, alpha = i, hidden_layer_sizes = (j, j), solver = 'lbfgs', activation = 'logistic', random_state = 42)\n",
    "        mlp_model.fit(X_train, y_train)\n",
    "        y_train_pred = mlp_model.predict(X_train)\n",
    "        y_test_pred = mlp_model.predict(X_test)\n",
    "        test_err[i][j] = np.mean(y_test != y_test_pred)\n",
    "        train_err[i][j] = np.mean(y_train != y_train_pred)\n",
    "        train_acc[i][j] = accuracy_score(y_train, y_train_pred)\n",
    "        test_acc[i][j] = accuracy_score(y_test, y_test_pred)\n",
    "TrE = pd.DataFrame(train_err)\n",
    "TeE = pd.DataFrame(test_err)\n",
    "TrA = pd.DataFrame(train_acc)\n",
    "TeA = pd.DataFrame(test_acc)\n",
    "TrE, TeE, TrA, TeA"
   ]
  },
  {
   "cell_type": "markdown",
   "metadata": {},
   "source": [
    "Теперь нужно определиться с параметрами. Можно построить графики отдельно для зависимости ошибок от параметра альфа и отдельно - от параметра N. Но удобнее посмотреть на зависимость сразу от обоих параметров."
   ]
  },
  {
   "cell_type": "markdown",
   "metadata": {},
   "source": [
    "Ошибка на обучающей выборке:"
   ]
  },
  {
   "cell_type": "code",
   "execution_count": 52,
   "metadata": {},
   "outputs": [
    {
     "data": {
      "text/plain": [
       "<AxesSubplot:>"
      ]
     },
     "execution_count": 52,
     "metadata": {},
     "output_type": "execute_result"
    },
    {
     "data": {
      "image/png": "[encoded data removed]",
      "text/plain": [
       "<Figure size 432x288 with 2 Axes>"
      ]
     },
     "metadata": {
      "needs_background": "light"
     },
     "output_type": "display_data"
    }
   ],
   "source": [
    "sns.heatmap(TrE, square=True, cmap='coolwarm', annot = True)"
   ]
  },
  {
   "cell_type": "markdown",
   "metadata": {},
   "source": [
    "Точность на обучающей выборке:"
   ]
  },
  {
   "cell_type": "code",
   "execution_count": 53,
   "metadata": {},
   "outputs": [
    {
     "data": {
      "text/plain": [
       "<AxesSubplot:>"
      ]
     },
     "execution_count": 53,
     "metadata": {},
     "output_type": "execute_result"
    },
    {
     "data": {
      "image/png": "[encoded data removed]",
      "text/plain": [
       "<Figure size 432x288 with 2 Axes>"
      ]
     },
     "metadata": {
      "needs_background": "light"
     },
     "output_type": "display_data"
    }
   ],
   "source": [
    "sns.heatmap(TrA, square=True, cmap='coolwarm', annot = True)"
   ]
  },
  {
   "cell_type": "markdown",
   "metadata": {},
   "source": [
    "Ошибка на тестовой выборке:"
   ]
  },
  {
   "cell_type": "code",
   "execution_count": 54,
   "metadata": {},
   "outputs": [
    {
     "data": {
      "text/plain": [
       "<AxesSubplot:>"
      ]
     },
     "execution_count": 54,
     "metadata": {},
     "output_type": "execute_result"
    },
    {
     "data": {
      "image/png": "[encoded data removed]",
      "text/plain": [
       "<Figure size 432x288 with 2 Axes>"
      ]
     },
     "metadata": {
      "needs_background": "light"
     },
     "output_type": "display_data"
    }
   ],
   "source": [
    "sns.heatmap(TeE, square=True, cmap='coolwarm', annot = True)"
   ]
  },
  {
   "cell_type": "markdown",
   "metadata": {},
   "source": [
    "Точность на тестовой выборе:"
   ]
  },
  {
   "cell_type": "code",
   "execution_count": 55,
   "metadata": {},
   "outputs": [
    {
     "data": {
      "text/plain": [
       "<AxesSubplot:>"
      ]
     },
     "execution_count": 55,
     "metadata": {},
     "output_type": "execute_result"
    },
    {
     "data": {
      "image/png": "[encoded data removed]",
      "text/plain": [
       "<Figure size 432x288 with 2 Axes>"
      ]
     },
     "metadata": {
      "needs_background": "light"
     },
     "output_type": "display_data"
    }
   ],
   "source": [
    "sns.heatmap(TeA, square=True, cmap='coolwarm', annot = True)"
   ]
  },
  {
   "cell_type": "markdown",
   "metadata": {},
   "source": [
    "Наименьший процент ошибки на тестовой выборке (0,14) достигается при значениях alpha = 10, N = 5. Это и есть оптимальные значения параметров."
   ]
  },
  {
   "cell_type": "markdown",
   "metadata": {},
   "source": [
    "## Классификатор при найденных оптимальных значениях параметров"
   ]
  },
  {
   "cell_type": "code",
   "execution_count": 57,
   "metadata": {},
   "outputs": [
    {
     "name": "stdout",
     "output_type": "stream",
     "text": [
      "0.14804735338141245\n",
      "0.13877551020408163\n"
     ]
    }
   ],
   "source": [
    "mlp_model = MLPClassifier(max_iter = 100, alpha = 10, hidden_layer_sizes = (5, 5), solver = 'lbfgs', activation = 'logistic', random_state = 42)\n",
    "mlp_model.fit(X_train, y_train)\n",
    "y_train_pred = mlp_model.predict(X_train)\n",
    "y_test_pred = mlp_model.predict(X_test)\n",
    "print(np.mean(y_train != y_train_pred))\n",
    "print(np.mean(y_test != y_test_pred))"
   ]
  },
  {
   "cell_type": "markdown",
   "metadata": {},
   "source": [
    "## Выводы\n",
    "Недообучения или переобучения не наблюдается. Показатели ошибок всё ещё достаточно большие (что связано со сложностью исследуемой модели), но при найденных оптимальных значениях параметров они лучше, чем показатели ошибок в методе ближайших соседей:\n",
    "Соседи: обучающая выборка - 13%, тестовая - 17%;\n",
    "MPL:    обучающая выборка - 15%, тестовая - 14%.\n",
    "\n",
    "Работу выполнил: Заятников Антон, 381803-2."
   ]
  }
 ],
 "metadata": {
  "kernelspec": {
   "display_name": "Python 3 (ipykernel)",
   "language": "python",
   "name": "python3"
  },
  "language_info": {
   "codemirror_mode": {
    "name": "ipython",
    "version": 3
   },
   "file_extension": ".py",
   "mimetype": "text/x-python",
   "name": "python",
   "nbconvert_exporter": "python",
   "pygments_lexer": "ipython3",
   "version": "3.9.5"
  }
 },
 "nbformat": 4,
 "nbformat_minor": 4
}
